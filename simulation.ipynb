{
 "cells": [
  {
   "cell_type": "code",
   "execution_count": 183,
   "id": "0706db89",
   "metadata": {},
   "outputs": [],
   "source": [
    "import numpy as np\n",
    "import pandas as pd\n",
    "import collections"
   ]
  },
  {
   "cell_type": "markdown",
   "id": "fdb7cdc6",
   "metadata": {},
   "source": [
    "1. How likely is it that you roll doubles when rolling two dice?"
   ]
  },
  {
   "cell_type": "code",
   "execution_count": 184,
   "id": "debf70a9",
   "metadata": {},
   "outputs": [],
   "source": [
    "outcomes = [1,2,3,4,5,6]\n",
    "\n",
    "n_sim = 100_000\n",
    "\n",
    "n_trials = 2"
   ]
  },
  {
   "cell_type": "code",
   "execution_count": 185,
   "id": "feb2b969",
   "metadata": {},
   "outputs": [
    {
     "data": {
      "text/plain": [
       "array([[3, 3],\n",
       "       [4, 3],\n",
       "       [5, 5],\n",
       "       ...,\n",
       "       [5, 2],\n",
       "       [5, 6],\n",
       "       [3, 6]])"
      ]
     },
     "execution_count": 185,
     "metadata": {},
     "output_type": "execute_result"
    }
   ],
   "source": [
    "rolls = np.random.choice(outcomes,(n_sim,n_trials))\n",
    "rolls"
   ]
  },
  {
   "cell_type": "code",
   "execution_count": 186,
   "id": "c1d36412",
   "metadata": {},
   "outputs": [
    {
     "data": {
      "text/html": [
       "<div>\n",
       "<style scoped>\n",
       "    .dataframe tbody tr th:only-of-type {\n",
       "        vertical-align: middle;\n",
       "    }\n",
       "\n",
       "    .dataframe tbody tr th {\n",
       "        vertical-align: top;\n",
       "    }\n",
       "\n",
       "    .dataframe thead th {\n",
       "        text-align: right;\n",
       "    }\n",
       "</style>\n",
       "<table border=\"1\" class=\"dataframe\">\n",
       "  <thead>\n",
       "    <tr style=\"text-align: right;\">\n",
       "      <th></th>\n",
       "      <th>0</th>\n",
       "      <th>1</th>\n",
       "    </tr>\n",
       "  </thead>\n",
       "  <tbody>\n",
       "    <tr>\n",
       "      <th>0</th>\n",
       "      <td>3</td>\n",
       "      <td>3</td>\n",
       "    </tr>\n",
       "    <tr>\n",
       "      <th>1</th>\n",
       "      <td>4</td>\n",
       "      <td>3</td>\n",
       "    </tr>\n",
       "    <tr>\n",
       "      <th>2</th>\n",
       "      <td>5</td>\n",
       "      <td>5</td>\n",
       "    </tr>\n",
       "    <tr>\n",
       "      <th>3</th>\n",
       "      <td>3</td>\n",
       "      <td>1</td>\n",
       "    </tr>\n",
       "    <tr>\n",
       "      <th>4</th>\n",
       "      <td>6</td>\n",
       "      <td>6</td>\n",
       "    </tr>\n",
       "    <tr>\n",
       "      <th>...</th>\n",
       "      <td>...</td>\n",
       "      <td>...</td>\n",
       "    </tr>\n",
       "    <tr>\n",
       "      <th>99995</th>\n",
       "      <td>1</td>\n",
       "      <td>1</td>\n",
       "    </tr>\n",
       "    <tr>\n",
       "      <th>99996</th>\n",
       "      <td>5</td>\n",
       "      <td>5</td>\n",
       "    </tr>\n",
       "    <tr>\n",
       "      <th>99997</th>\n",
       "      <td>5</td>\n",
       "      <td>2</td>\n",
       "    </tr>\n",
       "    <tr>\n",
       "      <th>99998</th>\n",
       "      <td>5</td>\n",
       "      <td>6</td>\n",
       "    </tr>\n",
       "    <tr>\n",
       "      <th>99999</th>\n",
       "      <td>3</td>\n",
       "      <td>6</td>\n",
       "    </tr>\n",
       "  </tbody>\n",
       "</table>\n",
       "<p>100000 rows × 2 columns</p>\n",
       "</div>"
      ],
      "text/plain": [
       "       0  1\n",
       "0      3  3\n",
       "1      4  3\n",
       "2      5  5\n",
       "3      3  1\n",
       "4      6  6\n",
       "...   .. ..\n",
       "99995  1  1\n",
       "99996  5  5\n",
       "99997  5  2\n",
       "99998  5  6\n",
       "99999  3  6\n",
       "\n",
       "[100000 rows x 2 columns]"
      ]
     },
     "execution_count": 186,
     "metadata": {},
     "output_type": "execute_result"
    }
   ],
   "source": [
    "dice_df = pd.DataFrame(rolls)\n",
    "dice_df"
   ]
  },
  {
   "cell_type": "code",
   "execution_count": 135,
   "id": "36204160",
   "metadata": {},
   "outputs": [
    {
     "data": {
      "text/html": [
       "<div>\n",
       "<style scoped>\n",
       "    .dataframe tbody tr th:only-of-type {\n",
       "        vertical-align: middle;\n",
       "    }\n",
       "\n",
       "    .dataframe tbody tr th {\n",
       "        vertical-align: top;\n",
       "    }\n",
       "\n",
       "    .dataframe thead th {\n",
       "        text-align: right;\n",
       "    }\n",
       "</style>\n",
       "<table border=\"1\" class=\"dataframe\">\n",
       "  <thead>\n",
       "    <tr style=\"text-align: right;\">\n",
       "      <th></th>\n",
       "      <th>0</th>\n",
       "      <th>1</th>\n",
       "    </tr>\n",
       "  </thead>\n",
       "  <tbody>\n",
       "    <tr>\n",
       "      <th>0</th>\n",
       "      <td>5</td>\n",
       "      <td>6</td>\n",
       "    </tr>\n",
       "    <tr>\n",
       "      <th>1</th>\n",
       "      <td>5</td>\n",
       "      <td>4</td>\n",
       "    </tr>\n",
       "    <tr>\n",
       "      <th>2</th>\n",
       "      <td>1</td>\n",
       "      <td>6</td>\n",
       "    </tr>\n",
       "    <tr>\n",
       "      <th>3</th>\n",
       "      <td>4</td>\n",
       "      <td>1</td>\n",
       "    </tr>\n",
       "    <tr>\n",
       "      <th>4</th>\n",
       "      <td>2</td>\n",
       "      <td>4</td>\n",
       "    </tr>\n",
       "    <tr>\n",
       "      <th>...</th>\n",
       "      <td>...</td>\n",
       "      <td>...</td>\n",
       "    </tr>\n",
       "    <tr>\n",
       "      <th>99995</th>\n",
       "      <td>1</td>\n",
       "      <td>4</td>\n",
       "    </tr>\n",
       "    <tr>\n",
       "      <th>99996</th>\n",
       "      <td>1</td>\n",
       "      <td>6</td>\n",
       "    </tr>\n",
       "    <tr>\n",
       "      <th>99997</th>\n",
       "      <td>3</td>\n",
       "      <td>2</td>\n",
       "    </tr>\n",
       "    <tr>\n",
       "      <th>99998</th>\n",
       "      <td>5</td>\n",
       "      <td>1</td>\n",
       "    </tr>\n",
       "    <tr>\n",
       "      <th>99999</th>\n",
       "      <td>5</td>\n",
       "      <td>2</td>\n",
       "    </tr>\n",
       "  </tbody>\n",
       "</table>\n",
       "<p>100000 rows × 2 columns</p>\n",
       "</div>"
      ],
      "text/plain": [
       "       0  1\n",
       "0      5  6\n",
       "1      5  4\n",
       "2      1  6\n",
       "3      4  1\n",
       "4      2  4\n",
       "...   .. ..\n",
       "99995  1  4\n",
       "99996  1  6\n",
       "99997  3  2\n",
       "99998  5  1\n",
       "99999  5  2\n",
       "\n",
       "[100000 rows x 2 columns]"
      ]
     },
     "execution_count": 135,
     "metadata": {},
     "output_type": "execute_result"
    }
   ],
   "source": [
    "dice_df.sort_index(axis=1)"
   ]
  },
  {
   "cell_type": "code",
   "execution_count": 136,
   "id": "56fe4ea4",
   "metadata": {},
   "outputs": [],
   "source": [
    "dice_df['is_duplicate'] = np.where((dice_df[0]+dice_df[1])/2 ==dice_df[0], 'yes', 'no')"
   ]
  },
  {
   "cell_type": "code",
   "execution_count": 156,
   "id": "8e711065",
   "metadata": {},
   "outputs": [],
   "source": [
    "dupe_total = len(dice_df[dice_df.is_duplicate == 'yes'])"
   ]
  },
  {
   "cell_type": "code",
   "execution_count": 157,
   "id": "67e97e01",
   "metadata": {},
   "outputs": [
    {
     "data": {
      "text/plain": [
       "0.16368"
      ]
     },
     "execution_count": 157,
     "metadata": {},
     "output_type": "execute_result"
    }
   ],
   "source": [
    "dupe_total / n_sim"
   ]
  },
  {
   "cell_type": "markdown",
   "id": "9011fa5e",
   "metadata": {},
   "source": [
    "2. If you flip 8 coins, what is the probability of getting exactly 3 heads? What is the probability of getting more than 3 heads?"
   ]
  },
  {
   "cell_type": "code",
   "execution_count": 9,
   "id": "f92388d3",
   "metadata": {},
   "outputs": [],
   "source": [
    "c_outcomes = ['H','T']\n",
    "\n",
    "c_sim = 10_000\n",
    "\n",
    "c_trials = 8"
   ]
  },
  {
   "cell_type": "code",
   "execution_count": 13,
   "id": "16548e8e",
   "metadata": {},
   "outputs": [
    {
     "data": {
      "text/plain": [
       "array([['T', 'T', 'T', ..., 'T', 'H', 'H'],\n",
       "       ['H', 'H', 'H', ..., 'H', 'H', 'H'],\n",
       "       ['T', 'H', 'T', ..., 'H', 'H', 'T'],\n",
       "       ...,\n",
       "       ['H', 'H', 'H', ..., 'H', 'H', 'T'],\n",
       "       ['T', 'T', 'T', ..., 'H', 'T', 'T'],\n",
       "       ['T', 'H', 'T', ..., 'T', 'H', 'T']], dtype='<U1')"
      ]
     },
     "execution_count": 13,
     "metadata": {},
     "output_type": "execute_result"
    }
   ],
   "source": [
    "flips = np.random.choice(c_outcomes,(c_sim,c_trials))\n",
    "flips"
   ]
  },
  {
   "cell_type": "code",
   "execution_count": 15,
   "id": "dbbb3992",
   "metadata": {},
   "outputs": [
    {
     "data": {
      "text/plain": [
       "array([3, 6, 5, ..., 5, 2, 4])"
      ]
     },
     "execution_count": 15,
     "metadata": {},
     "output_type": "execute_result"
    }
   ],
   "source": [
    "head_count =(flips == 'H').sum(axis=1)\n",
    "head_count"
   ]
  },
  {
   "cell_type": "code",
   "execution_count": 16,
   "id": "888734fa",
   "metadata": {},
   "outputs": [
    {
     "data": {
      "text/plain": [
       "0.2121"
      ]
     },
     "execution_count": 16,
     "metadata": {},
     "output_type": "execute_result"
    }
   ],
   "source": [
    "heads3 = (head_count == 3).mean()\n",
    "heads3"
   ]
  },
  {
   "cell_type": "code",
   "execution_count": 18,
   "id": "f101e1f8",
   "metadata": {},
   "outputs": [
    {
     "data": {
      "text/plain": [
       "0.6418"
      ]
     },
     "execution_count": 18,
     "metadata": {},
     "output_type": "execute_result"
    }
   ],
   "source": [
    "more_than_three = (head_count > 3).mean()\n",
    "more_than_three"
   ]
  },
  {
   "cell_type": "markdown",
   "id": "1bb25e60",
   "metadata": {},
   "source": [
    "3. There are approximitely 3 web development cohorts for every 1 data science cohort at Codeup. Assuming that Codeup randomly selects an alumni to put on a billboard, what are the odds that the two billboards I drive past both have data science students on them?"
   ]
  },
  {
   "cell_type": "code",
   "execution_count": 19,
   "id": "6d94c8bb",
   "metadata": {},
   "outputs": [],
   "source": [
    "codeup_outcome = ['W1','W2','W3','D1']\n",
    "\n",
    "codeup_sim = 10_000\n",
    "\n",
    "codeup_trials = 2"
   ]
  },
  {
   "cell_type": "code",
   "execution_count": 20,
   "id": "4e56564d",
   "metadata": {},
   "outputs": [
    {
     "data": {
      "text/plain": [
       "array([['W3', 'W2'],\n",
       "       ['W2', 'W2'],\n",
       "       ['D1', 'W1'],\n",
       "       ...,\n",
       "       ['W3', 'W3'],\n",
       "       ['D1', 'D1'],\n",
       "       ['D1', 'D1']], dtype='<U2')"
      ]
     },
     "execution_count": 20,
     "metadata": {},
     "output_type": "execute_result"
    }
   ],
   "source": [
    "drive = np.random.choice(codeup_outcome,(codeup_sim,codeup_trials))\n",
    "drive"
   ]
  },
  {
   "cell_type": "code",
   "execution_count": 22,
   "id": "37f94b74",
   "metadata": {},
   "outputs": [
    {
     "data": {
      "text/plain": [
       "array([0, 0, 1, ..., 0, 2, 2])"
      ]
     },
     "execution_count": 22,
     "metadata": {},
     "output_type": "execute_result"
    }
   ],
   "source": [
    "ds = (drive == 'D1').sum(axis=1)\n",
    "ds"
   ]
  },
  {
   "cell_type": "code",
   "execution_count": 24,
   "id": "ab513293",
   "metadata": {},
   "outputs": [
    {
     "data": {
      "text/plain": [
       "0.0615"
      ]
     },
     "execution_count": 24,
     "metadata": {},
     "output_type": "execute_result"
    }
   ],
   "source": [
    "ds_odds = (ds == 2).mean()\n",
    "ds_odds"
   ]
  },
  {
   "cell_type": "markdown",
   "id": "2483f337",
   "metadata": {},
   "source": [
    "4. Codeup students buy, on average, 3 poptart packages with a standard deviation of 1.5 a day from the snack vending machine. If on monday the machine is restocked with 17 poptart packages, how likely is it that I will be able to buy some poptarts on Friday afternoon? (Remember, if you have mean and standard deviation, use the np.random.normal) You'll need to make a judgement call on how to handle some of your values"
   ]
  },
  {
   "cell_type": "code",
   "execution_count": 194,
   "id": "b4b4cedd",
   "metadata": {},
   "outputs": [],
   "source": [
    "days = 5\n",
    "\n",
    "pt_count = 17"
   ]
  },
  {
   "cell_type": "code",
   "execution_count": 195,
   "id": "627ccaa2",
   "metadata": {},
   "outputs": [
    {
     "data": {
      "text/plain": [
       "array([[ 4.49621858,  4.3822461 ,  3.47996586,  1.73062287,  3.55971239],\n",
       "       [ 3.19239708,  3.28826159,  4.63239452,  3.92040342,  1.86296926],\n",
       "       [ 1.67898881,  0.72347917,  4.79885203,  1.34108026,  1.83691988],\n",
       "       ...,\n",
       "       [ 2.55640353,  4.39325903,  4.94951385,  2.15526068,  4.32754815],\n",
       "       [ 4.96008651,  2.85400897,  2.7002954 ,  5.11688006,  6.02804372],\n",
       "       [ 2.37524817,  4.5371777 ,  3.87357139,  2.39359435, -0.42948926]])"
      ]
     },
     "execution_count": 195,
     "metadata": {},
     "output_type": "execute_result"
    }
   ],
   "source": [
    "poptarts = np.random.normal(3,1.5,size=(10_000,days))\n",
    "poptarts"
   ]
  },
  {
   "cell_type": "code",
   "execution_count": 196,
   "id": "4c9c38e0",
   "metadata": {},
   "outputs": [
    {
     "data": {
      "text/plain": [
       "array([17.64876581, 16.89642586, 10.37932016, ..., 18.38198525,\n",
       "       21.65931465, 12.75010235])"
      ]
     },
     "execution_count": 196,
     "metadata": {},
     "output_type": "execute_result"
    }
   ],
   "source": [
    "pop_per_week = poptarts.sum(axis=1)\n",
    "pop_per_week"
   ]
  },
  {
   "cell_type": "code",
   "execution_count": 197,
   "id": "f3c1ab10",
   "metadata": {},
   "outputs": [
    {
     "data": {
      "text/plain": [
       "0.7329"
      ]
     },
     "execution_count": 197,
     "metadata": {},
     "output_type": "execute_result"
    }
   ],
   "source": [
    "(pop_per_week < 17).mean()\n"
   ]
  },
  {
   "cell_type": "markdown",
   "id": "0799e0ee",
   "metadata": {},
   "source": [
    "5. Compare Heights\n",
    "\n",
    "- Men have an average height of 178 cm and standard deviation of 8cm.\n",
    "- Women have a mean of 170, sd = 6cm.\n",
    "- Since you have means and standard deviations, you can use np.random.normal to generate   observations.\n",
    "- If a man and woman are chosen at random, what is the likelihood the woman is taller than the man?"
   ]
  },
  {
   "cell_type": "code",
   "execution_count": 35,
   "id": "90adafad",
   "metadata": {},
   "outputs": [],
   "source": [
    "m_height = np.random.normal(178, 8, size=10_000)\n",
    "f_height = np.random.normal(170, 6, size=10_000)"
   ]
  },
  {
   "cell_type": "code",
   "execution_count": 36,
   "id": "4fb4bcd2",
   "metadata": {},
   "outputs": [
    {
     "data": {
      "text/plain": [
       "2110"
      ]
     },
     "execution_count": 36,
     "metadata": {},
     "output_type": "execute_result"
    }
   ],
   "source": [
    "tall_f = (f_height > m_height).sum()\n",
    "tall_f"
   ]
  },
  {
   "cell_type": "code",
   "execution_count": 38,
   "id": "69085e43",
   "metadata": {},
   "outputs": [
    {
     "data": {
      "text/plain": [
       "0.211"
      ]
     },
     "execution_count": 38,
     "metadata": {},
     "output_type": "execute_result"
    }
   ],
   "source": [
    "f_odds = (f_height > m_height).mean()\n",
    "f_odds"
   ]
  },
  {
   "cell_type": "markdown",
   "id": "6d0f385d",
   "metadata": {},
   "source": [
    "6. When installing anaconda on a student's computer, there's a 1 in 250 chance that the download is corrupted and the installation fails. What are the odds that after having 50 students download anaconda, no one has an installation issue? 100 students?\n",
    "\n",
    "- What is the probability that we observe an installation issue within the first 150 students that download anaconda?\n",
    "\n",
    "- How likely is it that 450 students all download anaconda without an issue?"
   ]
  },
  {
   "cell_type": "code",
   "execution_count": 202,
   "id": "c3c989f0",
   "metadata": {},
   "outputs": [],
   "source": [
    "# conda_outcome = 1/250\n",
    "# conda_outcome\n",
    "outcomes = ['S', 'F']\n",
    "n_students = 150"
   ]
  },
  {
   "cell_type": "code",
   "execution_count": 203,
   "id": "12b87189",
   "metadata": {},
   "outputs": [
    {
     "data": {
      "text/plain": [
       "array([['S', 'S', 'S', ..., 'S', 'S', 'S'],\n",
       "       ['S', 'S', 'S', ..., 'S', 'S', 'S'],\n",
       "       ['S', 'S', 'S', ..., 'S', 'S', 'S'],\n",
       "       ...,\n",
       "       ['S', 'S', 'S', ..., 'S', 'S', 'S'],\n",
       "       ['S', 'S', 'S', ..., 'S', 'S', 'S'],\n",
       "       ['S', 'S', 'S', ..., 'S', 'S', 'S']], dtype='<U1')"
      ]
     },
     "execution_count": 203,
     "metadata": {},
     "output_type": "execute_result"
    }
   ],
   "source": [
    "# conda_sim = 450\n",
    "\n",
    "# installs = np.random.random((conda_sim, 1))\n",
    "# installs\n",
    "\n",
    "downloads = np.random.choice(outcomes, size =(10_000, n_students),\n",
    "                              p = [249/250, 1/250])\n",
    "downloads"
   ]
  },
  {
   "cell_type": "code",
   "execution_count": 204,
   "id": "d0bcee68",
   "metadata": {},
   "outputs": [
    {
     "data": {
      "text/plain": [
       "0.4487"
      ]
     },
     "execution_count": 204,
     "metadata": {},
     "output_type": "execute_result"
    }
   ],
   "source": [
    "# corrupt = (installs < conda_outcome)\n",
    "# corrupt\n",
    "\n",
    "((downloads == 'S').sum(axis=1) < n_students).mean()"
   ]
  },
  {
   "cell_type": "markdown",
   "id": "51ede21d",
   "metadata": {},
   "source": [
    "7. There's a 70% chance on any given day that there will be at least one food truck at Travis Park. However, you haven't seen a food truck there in 3 days. How unlikely is this?\n",
    "\n",
    "- How likely is it that a food truck will show up sometime this week?"
   ]
  },
  {
   "cell_type": "code",
   "execution_count": 214,
   "id": "f868df4f",
   "metadata": {},
   "outputs": [
    {
     "data": {
      "text/plain": [
       "array([[9.52106437e-01, 2.61273694e-01, 7.93105433e-01, ...,\n",
       "        5.77184376e-01, 1.50450265e-02, 9.71482390e-01],\n",
       "       [8.42995543e-01, 1.74319094e-05, 6.04520726e-01, ...,\n",
       "        8.09799819e-02, 5.60366838e-01, 9.15406506e-01],\n",
       "       [5.92780289e-01, 3.37738394e-02, 8.42023396e-01, ...,\n",
       "        5.43726940e-01, 1.82889579e-02, 6.64356335e-01],\n",
       "       ...,\n",
       "       [6.86895839e-01, 6.95480472e-01, 6.83913299e-01, ...,\n",
       "        1.94284683e-02, 4.78785238e-01, 5.10048069e-01],\n",
       "       [7.19601748e-01, 6.63370715e-01, 2.94281698e-01, ...,\n",
       "        7.15613840e-01, 6.64145140e-01, 6.13975495e-02],\n",
       "       [2.25911861e-01, 9.16268185e-01, 2.97619482e-01, ...,\n",
       "        8.38620771e-01, 5.83737087e-01, 4.85692997e-01]])"
      ]
     },
     "execution_count": 214,
     "metadata": {},
     "output_type": "execute_result"
    }
   ],
   "source": [
    "ft_outcome = .7\n",
    "\n",
    "day_sim = 7\n",
    "\n",
    "appearance = np.random.random((10_000,day_sim))\n",
    "appearance"
   ]
  },
  {
   "cell_type": "code",
   "execution_count": 215,
   "id": "b08f0d63",
   "metadata": {},
   "outputs": [
    {
     "data": {
      "text/plain": [
       "array([[False,  True, False, ...,  True,  True, False],\n",
       "       [False,  True,  True, ...,  True,  True, False],\n",
       "       [ True,  True, False, ...,  True,  True,  True],\n",
       "       ...,\n",
       "       [ True,  True,  True, ...,  True,  True,  True],\n",
       "       [False,  True,  True, ..., False,  True,  True],\n",
       "       [ True, False,  True, ..., False,  True,  True]])"
      ]
     },
     "execution_count": 215,
     "metadata": {},
     "output_type": "execute_result"
    }
   ],
   "source": [
    "ft_odds = (appearance < ft_outcome)\n",
    "ft_odds"
   ]
  },
  {
   "cell_type": "code",
   "execution_count": 224,
   "id": "32f457f9",
   "metadata": {},
   "outputs": [
    {
     "data": {
      "text/plain": [
       "0.9998"
      ]
     },
     "execution_count": 224,
     "metadata": {},
     "output_type": "execute_result"
    }
   ],
   "source": [
    "(ft_odds.sum(axis=1) > 0).mean()"
   ]
  },
  {
   "cell_type": "markdown",
   "id": "08cc1055",
   "metadata": {},
   "source": [
    "8. If 23 people are in the same room, what are the odds that two of them share a birthday? What if it's 20 people? 40?"
   ]
  },
  {
   "cell_type": "code",
   "execution_count": 217,
   "id": "277daa0f",
   "metadata": {},
   "outputs": [],
   "source": [
    "people = 40\n",
    "room_sim = 10_000\n",
    "days = 365"
   ]
  },
  {
   "cell_type": "code",
   "execution_count": 218,
   "id": "23335417",
   "metadata": {},
   "outputs": [
    {
     "data": {
      "text/plain": [
       "array([[319,  89, 325, ...,   1,  81, 133],\n",
       "       [175, 145, 107, ..., 104, 188, 342],\n",
       "       [282, 245,  47, ..., 342, 323, 320],\n",
       "       ...,\n",
       "       [287, 249, 106, ...,  83, 108, 242],\n",
       "       [106, 268, 188, ..., 240, 153, 234],\n",
       "       [359, 132,   4, ..., 335, 286,  56]])"
      ]
     },
     "execution_count": 218,
     "metadata": {},
     "output_type": "execute_result"
    }
   ],
   "source": [
    "birthday_sim = np.random.choice(days,(room_sim,people))\n",
    "birthday_sim"
   ]
  },
  {
   "cell_type": "code",
   "execution_count": 219,
   "id": "cc0b7c6f",
   "metadata": {},
   "outputs": [
    {
     "data": {
      "text/html": [
       "<div>\n",
       "<style scoped>\n",
       "    .dataframe tbody tr th:only-of-type {\n",
       "        vertical-align: middle;\n",
       "    }\n",
       "\n",
       "    .dataframe tbody tr th {\n",
       "        vertical-align: top;\n",
       "    }\n",
       "\n",
       "    .dataframe thead th {\n",
       "        text-align: right;\n",
       "    }\n",
       "</style>\n",
       "<table border=\"1\" class=\"dataframe\">\n",
       "  <thead>\n",
       "    <tr style=\"text-align: right;\">\n",
       "      <th></th>\n",
       "      <th>0</th>\n",
       "      <th>1</th>\n",
       "      <th>2</th>\n",
       "      <th>3</th>\n",
       "      <th>4</th>\n",
       "      <th>5</th>\n",
       "      <th>6</th>\n",
       "      <th>7</th>\n",
       "      <th>8</th>\n",
       "      <th>9</th>\n",
       "      <th>...</th>\n",
       "      <th>30</th>\n",
       "      <th>31</th>\n",
       "      <th>32</th>\n",
       "      <th>33</th>\n",
       "      <th>34</th>\n",
       "      <th>35</th>\n",
       "      <th>36</th>\n",
       "      <th>37</th>\n",
       "      <th>38</th>\n",
       "      <th>39</th>\n",
       "    </tr>\n",
       "  </thead>\n",
       "  <tbody>\n",
       "    <tr>\n",
       "      <th>0</th>\n",
       "      <td>319</td>\n",
       "      <td>89</td>\n",
       "      <td>325</td>\n",
       "      <td>144</td>\n",
       "      <td>52</td>\n",
       "      <td>10</td>\n",
       "      <td>201</td>\n",
       "      <td>240</td>\n",
       "      <td>347</td>\n",
       "      <td>327</td>\n",
       "      <td>...</td>\n",
       "      <td>230</td>\n",
       "      <td>267</td>\n",
       "      <td>220</td>\n",
       "      <td>333</td>\n",
       "      <td>168</td>\n",
       "      <td>236</td>\n",
       "      <td>329</td>\n",
       "      <td>1</td>\n",
       "      <td>81</td>\n",
       "      <td>133</td>\n",
       "    </tr>\n",
       "    <tr>\n",
       "      <th>1</th>\n",
       "      <td>175</td>\n",
       "      <td>145</td>\n",
       "      <td>107</td>\n",
       "      <td>58</td>\n",
       "      <td>319</td>\n",
       "      <td>156</td>\n",
       "      <td>91</td>\n",
       "      <td>93</td>\n",
       "      <td>169</td>\n",
       "      <td>356</td>\n",
       "      <td>...</td>\n",
       "      <td>14</td>\n",
       "      <td>349</td>\n",
       "      <td>291</td>\n",
       "      <td>181</td>\n",
       "      <td>336</td>\n",
       "      <td>212</td>\n",
       "      <td>177</td>\n",
       "      <td>104</td>\n",
       "      <td>188</td>\n",
       "      <td>342</td>\n",
       "    </tr>\n",
       "    <tr>\n",
       "      <th>2</th>\n",
       "      <td>282</td>\n",
       "      <td>245</td>\n",
       "      <td>47</td>\n",
       "      <td>121</td>\n",
       "      <td>120</td>\n",
       "      <td>233</td>\n",
       "      <td>342</td>\n",
       "      <td>219</td>\n",
       "      <td>41</td>\n",
       "      <td>257</td>\n",
       "      <td>...</td>\n",
       "      <td>229</td>\n",
       "      <td>73</td>\n",
       "      <td>363</td>\n",
       "      <td>233</td>\n",
       "      <td>325</td>\n",
       "      <td>74</td>\n",
       "      <td>253</td>\n",
       "      <td>342</td>\n",
       "      <td>323</td>\n",
       "      <td>320</td>\n",
       "    </tr>\n",
       "    <tr>\n",
       "      <th>3</th>\n",
       "      <td>96</td>\n",
       "      <td>213</td>\n",
       "      <td>66</td>\n",
       "      <td>242</td>\n",
       "      <td>101</td>\n",
       "      <td>153</td>\n",
       "      <td>233</td>\n",
       "      <td>278</td>\n",
       "      <td>166</td>\n",
       "      <td>278</td>\n",
       "      <td>...</td>\n",
       "      <td>331</td>\n",
       "      <td>175</td>\n",
       "      <td>202</td>\n",
       "      <td>129</td>\n",
       "      <td>224</td>\n",
       "      <td>24</td>\n",
       "      <td>109</td>\n",
       "      <td>238</td>\n",
       "      <td>64</td>\n",
       "      <td>166</td>\n",
       "    </tr>\n",
       "    <tr>\n",
       "      <th>4</th>\n",
       "      <td>312</td>\n",
       "      <td>9</td>\n",
       "      <td>269</td>\n",
       "      <td>208</td>\n",
       "      <td>290</td>\n",
       "      <td>172</td>\n",
       "      <td>120</td>\n",
       "      <td>249</td>\n",
       "      <td>279</td>\n",
       "      <td>6</td>\n",
       "      <td>...</td>\n",
       "      <td>144</td>\n",
       "      <td>175</td>\n",
       "      <td>184</td>\n",
       "      <td>67</td>\n",
       "      <td>57</td>\n",
       "      <td>71</td>\n",
       "      <td>233</td>\n",
       "      <td>94</td>\n",
       "      <td>275</td>\n",
       "      <td>101</td>\n",
       "    </tr>\n",
       "    <tr>\n",
       "      <th>...</th>\n",
       "      <td>...</td>\n",
       "      <td>...</td>\n",
       "      <td>...</td>\n",
       "      <td>...</td>\n",
       "      <td>...</td>\n",
       "      <td>...</td>\n",
       "      <td>...</td>\n",
       "      <td>...</td>\n",
       "      <td>...</td>\n",
       "      <td>...</td>\n",
       "      <td>...</td>\n",
       "      <td>...</td>\n",
       "      <td>...</td>\n",
       "      <td>...</td>\n",
       "      <td>...</td>\n",
       "      <td>...</td>\n",
       "      <td>...</td>\n",
       "      <td>...</td>\n",
       "      <td>...</td>\n",
       "      <td>...</td>\n",
       "      <td>...</td>\n",
       "    </tr>\n",
       "    <tr>\n",
       "      <th>9995</th>\n",
       "      <td>359</td>\n",
       "      <td>287</td>\n",
       "      <td>95</td>\n",
       "      <td>268</td>\n",
       "      <td>273</td>\n",
       "      <td>26</td>\n",
       "      <td>21</td>\n",
       "      <td>38</td>\n",
       "      <td>353</td>\n",
       "      <td>22</td>\n",
       "      <td>...</td>\n",
       "      <td>144</td>\n",
       "      <td>324</td>\n",
       "      <td>172</td>\n",
       "      <td>66</td>\n",
       "      <td>16</td>\n",
       "      <td>92</td>\n",
       "      <td>0</td>\n",
       "      <td>266</td>\n",
       "      <td>297</td>\n",
       "      <td>293</td>\n",
       "    </tr>\n",
       "    <tr>\n",
       "      <th>9996</th>\n",
       "      <td>154</td>\n",
       "      <td>21</td>\n",
       "      <td>226</td>\n",
       "      <td>216</td>\n",
       "      <td>220</td>\n",
       "      <td>125</td>\n",
       "      <td>324</td>\n",
       "      <td>264</td>\n",
       "      <td>256</td>\n",
       "      <td>126</td>\n",
       "      <td>...</td>\n",
       "      <td>197</td>\n",
       "      <td>18</td>\n",
       "      <td>178</td>\n",
       "      <td>46</td>\n",
       "      <td>50</td>\n",
       "      <td>209</td>\n",
       "      <td>330</td>\n",
       "      <td>99</td>\n",
       "      <td>289</td>\n",
       "      <td>228</td>\n",
       "    </tr>\n",
       "    <tr>\n",
       "      <th>9997</th>\n",
       "      <td>287</td>\n",
       "      <td>249</td>\n",
       "      <td>106</td>\n",
       "      <td>50</td>\n",
       "      <td>150</td>\n",
       "      <td>227</td>\n",
       "      <td>322</td>\n",
       "      <td>163</td>\n",
       "      <td>87</td>\n",
       "      <td>339</td>\n",
       "      <td>...</td>\n",
       "      <td>1</td>\n",
       "      <td>259</td>\n",
       "      <td>36</td>\n",
       "      <td>284</td>\n",
       "      <td>177</td>\n",
       "      <td>187</td>\n",
       "      <td>127</td>\n",
       "      <td>83</td>\n",
       "      <td>108</td>\n",
       "      <td>242</td>\n",
       "    </tr>\n",
       "    <tr>\n",
       "      <th>9998</th>\n",
       "      <td>106</td>\n",
       "      <td>268</td>\n",
       "      <td>188</td>\n",
       "      <td>187</td>\n",
       "      <td>124</td>\n",
       "      <td>67</td>\n",
       "      <td>65</td>\n",
       "      <td>192</td>\n",
       "      <td>267</td>\n",
       "      <td>301</td>\n",
       "      <td>...</td>\n",
       "      <td>72</td>\n",
       "      <td>310</td>\n",
       "      <td>339</td>\n",
       "      <td>330</td>\n",
       "      <td>320</td>\n",
       "      <td>259</td>\n",
       "      <td>170</td>\n",
       "      <td>240</td>\n",
       "      <td>153</td>\n",
       "      <td>234</td>\n",
       "    </tr>\n",
       "    <tr>\n",
       "      <th>9999</th>\n",
       "      <td>359</td>\n",
       "      <td>132</td>\n",
       "      <td>4</td>\n",
       "      <td>158</td>\n",
       "      <td>48</td>\n",
       "      <td>46</td>\n",
       "      <td>116</td>\n",
       "      <td>212</td>\n",
       "      <td>224</td>\n",
       "      <td>36</td>\n",
       "      <td>...</td>\n",
       "      <td>306</td>\n",
       "      <td>145</td>\n",
       "      <td>252</td>\n",
       "      <td>110</td>\n",
       "      <td>297</td>\n",
       "      <td>122</td>\n",
       "      <td>197</td>\n",
       "      <td>335</td>\n",
       "      <td>286</td>\n",
       "      <td>56</td>\n",
       "    </tr>\n",
       "  </tbody>\n",
       "</table>\n",
       "<p>10000 rows × 40 columns</p>\n",
       "</div>"
      ],
      "text/plain": [
       "       0    1    2    3    4    5    6    7    8    9   ...   30   31   32  \\\n",
       "0     319   89  325  144   52   10  201  240  347  327  ...  230  267  220   \n",
       "1     175  145  107   58  319  156   91   93  169  356  ...   14  349  291   \n",
       "2     282  245   47  121  120  233  342  219   41  257  ...  229   73  363   \n",
       "3      96  213   66  242  101  153  233  278  166  278  ...  331  175  202   \n",
       "4     312    9  269  208  290  172  120  249  279    6  ...  144  175  184   \n",
       "...   ...  ...  ...  ...  ...  ...  ...  ...  ...  ...  ...  ...  ...  ...   \n",
       "9995  359  287   95  268  273   26   21   38  353   22  ...  144  324  172   \n",
       "9996  154   21  226  216  220  125  324  264  256  126  ...  197   18  178   \n",
       "9997  287  249  106   50  150  227  322  163   87  339  ...    1  259   36   \n",
       "9998  106  268  188  187  124   67   65  192  267  301  ...   72  310  339   \n",
       "9999  359  132    4  158   48   46  116  212  224   36  ...  306  145  252   \n",
       "\n",
       "       33   34   35   36   37   38   39  \n",
       "0     333  168  236  329    1   81  133  \n",
       "1     181  336  212  177  104  188  342  \n",
       "2     233  325   74  253  342  323  320  \n",
       "3     129  224   24  109  238   64  166  \n",
       "4      67   57   71  233   94  275  101  \n",
       "...   ...  ...  ...  ...  ...  ...  ...  \n",
       "9995   66   16   92    0  266  297  293  \n",
       "9996   46   50  209  330   99  289  228  \n",
       "9997  284  177  187  127   83  108  242  \n",
       "9998  330  320  259  170  240  153  234  \n",
       "9999  110  297  122  197  335  286   56  \n",
       "\n",
       "[10000 rows x 40 columns]"
      ]
     },
     "execution_count": 219,
     "metadata": {},
     "output_type": "execute_result"
    }
   ],
   "source": [
    "birthday_df = pd.DataFrame(birthday_sim)\n",
    "birthday_df"
   ]
  },
  {
   "cell_type": "code",
   "execution_count": 220,
   "id": "a3531fcf",
   "metadata": {},
   "outputs": [
    {
     "data": {
      "text/plain": [
       "0       38\n",
       "1       38\n",
       "2       37\n",
       "3       36\n",
       "4       37\n",
       "        ..\n",
       "9995    40\n",
       "9996    37\n",
       "9997    38\n",
       "9998    38\n",
       "9999    38\n",
       "Length: 10000, dtype: int64"
      ]
     },
     "execution_count": 220,
     "metadata": {},
     "output_type": "execute_result"
    }
   ],
   "source": [
    "unique_bday = birthday_df.nunique(axis=1)\n",
    "unique_bday"
   ]
  },
  {
   "cell_type": "code",
   "execution_count": 221,
   "id": "a86b84d3",
   "metadata": {},
   "outputs": [
    {
     "data": {
      "text/html": [
       "<div>\n",
       "<style scoped>\n",
       "    .dataframe tbody tr th:only-of-type {\n",
       "        vertical-align: middle;\n",
       "    }\n",
       "\n",
       "    .dataframe tbody tr th {\n",
       "        vertical-align: top;\n",
       "    }\n",
       "\n",
       "    .dataframe thead th {\n",
       "        text-align: right;\n",
       "    }\n",
       "</style>\n",
       "<table border=\"1\" class=\"dataframe\">\n",
       "  <thead>\n",
       "    <tr style=\"text-align: right;\">\n",
       "      <th></th>\n",
       "      <th>0</th>\n",
       "      <th>1</th>\n",
       "      <th>2</th>\n",
       "      <th>3</th>\n",
       "      <th>4</th>\n",
       "      <th>5</th>\n",
       "      <th>6</th>\n",
       "      <th>7</th>\n",
       "      <th>8</th>\n",
       "      <th>9</th>\n",
       "      <th>...</th>\n",
       "      <th>31</th>\n",
       "      <th>32</th>\n",
       "      <th>33</th>\n",
       "      <th>34</th>\n",
       "      <th>35</th>\n",
       "      <th>36</th>\n",
       "      <th>37</th>\n",
       "      <th>38</th>\n",
       "      <th>39</th>\n",
       "      <th>birthday_matches</th>\n",
       "    </tr>\n",
       "  </thead>\n",
       "  <tbody>\n",
       "    <tr>\n",
       "      <th>0</th>\n",
       "      <td>319</td>\n",
       "      <td>89</td>\n",
       "      <td>325</td>\n",
       "      <td>144</td>\n",
       "      <td>52</td>\n",
       "      <td>10</td>\n",
       "      <td>201</td>\n",
       "      <td>240</td>\n",
       "      <td>347</td>\n",
       "      <td>327</td>\n",
       "      <td>...</td>\n",
       "      <td>267</td>\n",
       "      <td>220</td>\n",
       "      <td>333</td>\n",
       "      <td>168</td>\n",
       "      <td>236</td>\n",
       "      <td>329</td>\n",
       "      <td>1</td>\n",
       "      <td>81</td>\n",
       "      <td>133</td>\n",
       "      <td>yes</td>\n",
       "    </tr>\n",
       "    <tr>\n",
       "      <th>1</th>\n",
       "      <td>175</td>\n",
       "      <td>145</td>\n",
       "      <td>107</td>\n",
       "      <td>58</td>\n",
       "      <td>319</td>\n",
       "      <td>156</td>\n",
       "      <td>91</td>\n",
       "      <td>93</td>\n",
       "      <td>169</td>\n",
       "      <td>356</td>\n",
       "      <td>...</td>\n",
       "      <td>349</td>\n",
       "      <td>291</td>\n",
       "      <td>181</td>\n",
       "      <td>336</td>\n",
       "      <td>212</td>\n",
       "      <td>177</td>\n",
       "      <td>104</td>\n",
       "      <td>188</td>\n",
       "      <td>342</td>\n",
       "      <td>yes</td>\n",
       "    </tr>\n",
       "    <tr>\n",
       "      <th>2</th>\n",
       "      <td>282</td>\n",
       "      <td>245</td>\n",
       "      <td>47</td>\n",
       "      <td>121</td>\n",
       "      <td>120</td>\n",
       "      <td>233</td>\n",
       "      <td>342</td>\n",
       "      <td>219</td>\n",
       "      <td>41</td>\n",
       "      <td>257</td>\n",
       "      <td>...</td>\n",
       "      <td>73</td>\n",
       "      <td>363</td>\n",
       "      <td>233</td>\n",
       "      <td>325</td>\n",
       "      <td>74</td>\n",
       "      <td>253</td>\n",
       "      <td>342</td>\n",
       "      <td>323</td>\n",
       "      <td>320</td>\n",
       "      <td>yes</td>\n",
       "    </tr>\n",
       "    <tr>\n",
       "      <th>3</th>\n",
       "      <td>96</td>\n",
       "      <td>213</td>\n",
       "      <td>66</td>\n",
       "      <td>242</td>\n",
       "      <td>101</td>\n",
       "      <td>153</td>\n",
       "      <td>233</td>\n",
       "      <td>278</td>\n",
       "      <td>166</td>\n",
       "      <td>278</td>\n",
       "      <td>...</td>\n",
       "      <td>175</td>\n",
       "      <td>202</td>\n",
       "      <td>129</td>\n",
       "      <td>224</td>\n",
       "      <td>24</td>\n",
       "      <td>109</td>\n",
       "      <td>238</td>\n",
       "      <td>64</td>\n",
       "      <td>166</td>\n",
       "      <td>yes</td>\n",
       "    </tr>\n",
       "    <tr>\n",
       "      <th>4</th>\n",
       "      <td>312</td>\n",
       "      <td>9</td>\n",
       "      <td>269</td>\n",
       "      <td>208</td>\n",
       "      <td>290</td>\n",
       "      <td>172</td>\n",
       "      <td>120</td>\n",
       "      <td>249</td>\n",
       "      <td>279</td>\n",
       "      <td>6</td>\n",
       "      <td>...</td>\n",
       "      <td>175</td>\n",
       "      <td>184</td>\n",
       "      <td>67</td>\n",
       "      <td>57</td>\n",
       "      <td>71</td>\n",
       "      <td>233</td>\n",
       "      <td>94</td>\n",
       "      <td>275</td>\n",
       "      <td>101</td>\n",
       "      <td>yes</td>\n",
       "    </tr>\n",
       "    <tr>\n",
       "      <th>...</th>\n",
       "      <td>...</td>\n",
       "      <td>...</td>\n",
       "      <td>...</td>\n",
       "      <td>...</td>\n",
       "      <td>...</td>\n",
       "      <td>...</td>\n",
       "      <td>...</td>\n",
       "      <td>...</td>\n",
       "      <td>...</td>\n",
       "      <td>...</td>\n",
       "      <td>...</td>\n",
       "      <td>...</td>\n",
       "      <td>...</td>\n",
       "      <td>...</td>\n",
       "      <td>...</td>\n",
       "      <td>...</td>\n",
       "      <td>...</td>\n",
       "      <td>...</td>\n",
       "      <td>...</td>\n",
       "      <td>...</td>\n",
       "      <td>...</td>\n",
       "    </tr>\n",
       "    <tr>\n",
       "      <th>9995</th>\n",
       "      <td>359</td>\n",
       "      <td>287</td>\n",
       "      <td>95</td>\n",
       "      <td>268</td>\n",
       "      <td>273</td>\n",
       "      <td>26</td>\n",
       "      <td>21</td>\n",
       "      <td>38</td>\n",
       "      <td>353</td>\n",
       "      <td>22</td>\n",
       "      <td>...</td>\n",
       "      <td>324</td>\n",
       "      <td>172</td>\n",
       "      <td>66</td>\n",
       "      <td>16</td>\n",
       "      <td>92</td>\n",
       "      <td>0</td>\n",
       "      <td>266</td>\n",
       "      <td>297</td>\n",
       "      <td>293</td>\n",
       "      <td>no</td>\n",
       "    </tr>\n",
       "    <tr>\n",
       "      <th>9996</th>\n",
       "      <td>154</td>\n",
       "      <td>21</td>\n",
       "      <td>226</td>\n",
       "      <td>216</td>\n",
       "      <td>220</td>\n",
       "      <td>125</td>\n",
       "      <td>324</td>\n",
       "      <td>264</td>\n",
       "      <td>256</td>\n",
       "      <td>126</td>\n",
       "      <td>...</td>\n",
       "      <td>18</td>\n",
       "      <td>178</td>\n",
       "      <td>46</td>\n",
       "      <td>50</td>\n",
       "      <td>209</td>\n",
       "      <td>330</td>\n",
       "      <td>99</td>\n",
       "      <td>289</td>\n",
       "      <td>228</td>\n",
       "      <td>yes</td>\n",
       "    </tr>\n",
       "    <tr>\n",
       "      <th>9997</th>\n",
       "      <td>287</td>\n",
       "      <td>249</td>\n",
       "      <td>106</td>\n",
       "      <td>50</td>\n",
       "      <td>150</td>\n",
       "      <td>227</td>\n",
       "      <td>322</td>\n",
       "      <td>163</td>\n",
       "      <td>87</td>\n",
       "      <td>339</td>\n",
       "      <td>...</td>\n",
       "      <td>259</td>\n",
       "      <td>36</td>\n",
       "      <td>284</td>\n",
       "      <td>177</td>\n",
       "      <td>187</td>\n",
       "      <td>127</td>\n",
       "      <td>83</td>\n",
       "      <td>108</td>\n",
       "      <td>242</td>\n",
       "      <td>yes</td>\n",
       "    </tr>\n",
       "    <tr>\n",
       "      <th>9998</th>\n",
       "      <td>106</td>\n",
       "      <td>268</td>\n",
       "      <td>188</td>\n",
       "      <td>187</td>\n",
       "      <td>124</td>\n",
       "      <td>67</td>\n",
       "      <td>65</td>\n",
       "      <td>192</td>\n",
       "      <td>267</td>\n",
       "      <td>301</td>\n",
       "      <td>...</td>\n",
       "      <td>310</td>\n",
       "      <td>339</td>\n",
       "      <td>330</td>\n",
       "      <td>320</td>\n",
       "      <td>259</td>\n",
       "      <td>170</td>\n",
       "      <td>240</td>\n",
       "      <td>153</td>\n",
       "      <td>234</td>\n",
       "      <td>yes</td>\n",
       "    </tr>\n",
       "    <tr>\n",
       "      <th>9999</th>\n",
       "      <td>359</td>\n",
       "      <td>132</td>\n",
       "      <td>4</td>\n",
       "      <td>158</td>\n",
       "      <td>48</td>\n",
       "      <td>46</td>\n",
       "      <td>116</td>\n",
       "      <td>212</td>\n",
       "      <td>224</td>\n",
       "      <td>36</td>\n",
       "      <td>...</td>\n",
       "      <td>145</td>\n",
       "      <td>252</td>\n",
       "      <td>110</td>\n",
       "      <td>297</td>\n",
       "      <td>122</td>\n",
       "      <td>197</td>\n",
       "      <td>335</td>\n",
       "      <td>286</td>\n",
       "      <td>56</td>\n",
       "      <td>yes</td>\n",
       "    </tr>\n",
       "  </tbody>\n",
       "</table>\n",
       "<p>10000 rows × 41 columns</p>\n",
       "</div>"
      ],
      "text/plain": [
       "        0    1    2    3    4    5    6    7    8    9  ...   31   32   33  \\\n",
       "0     319   89  325  144   52   10  201  240  347  327  ...  267  220  333   \n",
       "1     175  145  107   58  319  156   91   93  169  356  ...  349  291  181   \n",
       "2     282  245   47  121  120  233  342  219   41  257  ...   73  363  233   \n",
       "3      96  213   66  242  101  153  233  278  166  278  ...  175  202  129   \n",
       "4     312    9  269  208  290  172  120  249  279    6  ...  175  184   67   \n",
       "...   ...  ...  ...  ...  ...  ...  ...  ...  ...  ...  ...  ...  ...  ...   \n",
       "9995  359  287   95  268  273   26   21   38  353   22  ...  324  172   66   \n",
       "9996  154   21  226  216  220  125  324  264  256  126  ...   18  178   46   \n",
       "9997  287  249  106   50  150  227  322  163   87  339  ...  259   36  284   \n",
       "9998  106  268  188  187  124   67   65  192  267  301  ...  310  339  330   \n",
       "9999  359  132    4  158   48   46  116  212  224   36  ...  145  252  110   \n",
       "\n",
       "       34   35   36   37   38   39  birthday_matches  \n",
       "0     168  236  329    1   81  133               yes  \n",
       "1     336  212  177  104  188  342               yes  \n",
       "2     325   74  253  342  323  320               yes  \n",
       "3     224   24  109  238   64  166               yes  \n",
       "4      57   71  233   94  275  101               yes  \n",
       "...   ...  ...  ...  ...  ...  ...               ...  \n",
       "9995   16   92    0  266  297  293                no  \n",
       "9996   50  209  330   99  289  228               yes  \n",
       "9997  177  187  127   83  108  242               yes  \n",
       "9998  320  259  170  240  153  234               yes  \n",
       "9999  297  122  197  335  286   56               yes  \n",
       "\n",
       "[10000 rows x 41 columns]"
      ]
     },
     "execution_count": 221,
     "metadata": {},
     "output_type": "execute_result"
    }
   ],
   "source": [
    "birthday_df['birthday_matches'] = np.where((people-unique_bday) >= 1, 'yes', 'no')\n",
    "birthday_df"
   ]
  },
  {
   "cell_type": "code",
   "execution_count": 222,
   "id": "62dac070",
   "metadata": {},
   "outputs": [
    {
     "data": {
      "text/plain": [
       "8926"
      ]
     },
     "execution_count": 222,
     "metadata": {},
     "output_type": "execute_result"
    }
   ],
   "source": [
    "match_count = len(birthday_df[birthday_df.birthday_matches == 'yes'])\n",
    "match_count"
   ]
  },
  {
   "cell_type": "code",
   "execution_count": 223,
   "id": "91b2a2bc",
   "metadata": {},
   "outputs": [
    {
     "data": {
      "text/plain": [
       "0.8926"
      ]
     },
     "execution_count": 223,
     "metadata": {},
     "output_type": "execute_result"
    }
   ],
   "source": [
    "match_odds =  match_count/room_sim\n",
    "match_odds"
   ]
  },
  {
   "cell_type": "code",
   "execution_count": null,
   "id": "86d60ddd",
   "metadata": {},
   "outputs": [],
   "source": []
  }
 ],
 "metadata": {
  "kernelspec": {
   "display_name": "Python 3 (ipykernel)",
   "language": "python",
   "name": "python3"
  },
  "language_info": {
   "codemirror_mode": {
    "name": "ipython",
    "version": 3
   },
   "file_extension": ".py",
   "mimetype": "text/x-python",
   "name": "python",
   "nbconvert_exporter": "python",
   "pygments_lexer": "ipython3",
   "version": "3.9.12"
  }
 },
 "nbformat": 4,
 "nbformat_minor": 5
}
