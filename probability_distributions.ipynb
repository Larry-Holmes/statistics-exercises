{
 "cells": [
  {
   "cell_type": "markdown",
   "id": "dd6c7c13",
   "metadata": {},
   "source": [
    "For the following problems, use python to simulate the problem and calculate an experimental probability, then compare that to the theoretical probability."
   ]
  },
  {
   "cell_type": "markdown",
   "id": "5b3a6ecf",
   "metadata": {},
   "source": [
    "1. A bank found that the average number of cars waiting during the noon hour at a drive-up window follows a Poisson distribution with a mean of 2 cars. Make a chart of this distribution and answer these questions concerning the probability of cars waiting at the drive-up window.\n",
    "\n",
    "- What is the probability that no cars drive up in the noon hour?\n",
    "- What is the probability that 3 or more cars come through the drive through?\n",
    "- How likely is it that the drive through gets at least 1 car?"
   ]
  },
  {
   "cell_type": "code",
   "execution_count": 2,
   "id": "48a4a1b3",
   "metadata": {},
   "outputs": [],
   "source": [
    "import numpy as np\n",
    "import pandas as pd\n",
    "import matplotlib.pyplot as plt\n",
    "from scipy import stats"
   ]
  },
  {
   "cell_type": "code",
   "execution_count": 3,
   "id": "3231228d",
   "metadata": {},
   "outputs": [],
   "source": [
    "λ = 2 \n",
    "drive_thru_dist = stats.poisson(λ)"
   ]
  },
  {
   "cell_type": "code",
   "execution_count": 5,
   "id": "c65a1dd2",
   "metadata": {},
   "outputs": [
    {
     "data": {
      "text/plain": [
       "0.1353352832366127"
      ]
     },
     "execution_count": 5,
     "metadata": {},
     "output_type": "execute_result"
    }
   ],
   "source": [
    "drive_thru_dist.pmf(0)"
   ]
  },
  {
   "cell_type": "code",
   "execution_count": 6,
   "id": "0bfaf980",
   "metadata": {},
   "outputs": [
    {
     "data": {
      "text/plain": [
       "0.32332358381693654"
      ]
     },
     "execution_count": 6,
     "metadata": {},
     "output_type": "execute_result"
    }
   ],
   "source": [
    "drive_thru_dist.sf(2)"
   ]
  },
  {
   "cell_type": "code",
   "execution_count": 7,
   "id": "9466d6ae",
   "metadata": {},
   "outputs": [
    {
     "data": {
      "text/plain": [
       "0.40600584970983794"
      ]
     },
     "execution_count": 7,
     "metadata": {},
     "output_type": "execute_result"
    }
   ],
   "source": [
    "drive_thru_dist.cdf(1)"
   ]
  },
  {
   "cell_type": "markdown",
   "id": "aff0c59b",
   "metadata": {},
   "source": [
    "2. Grades of State University graduates are normally distributed with a mean of 3.0 and a standard deviation of .3. Calculate the following:\n",
    "\n",
    "- What grade point average is required to be in the top 5% of the graduating class?\n",
    "- What GPA constitutes the bottom 15% of the class?\n",
    "- An eccentric alumnus left scholarship money for students in the third decile from the bottom of their class. Determine the range of the third decile. Would a student with a 2.8 grade point average qualify for this scholarship?\n",
    "- If I have a GPA of 3.5, what percentile am I in?"
   ]
  },
  {
   "cell_type": "code",
   "execution_count": 8,
   "id": "b67a169b",
   "metadata": {},
   "outputs": [],
   "source": [
    "μ = 3\n",
    "σ = .3\n",
    "\n",
    "grades_dist = stats.norm(μ,σ)"
   ]
  },
  {
   "cell_type": "code",
   "execution_count": 10,
   "id": "9baa29fb",
   "metadata": {},
   "outputs": [
    {
     "data": {
      "text/plain": [
       "3.4934560880854417"
      ]
     },
     "execution_count": 10,
     "metadata": {},
     "output_type": "execute_result"
    }
   ],
   "source": [
    "grades_dist.isf(.05)"
   ]
  },
  {
   "cell_type": "code",
   "execution_count": 11,
   "id": "ae9fa4e7",
   "metadata": {},
   "outputs": [
    {
     "data": {
      "text/plain": [
       "2.689069983151863"
      ]
     },
     "execution_count": 11,
     "metadata": {},
     "output_type": "execute_result"
    }
   ],
   "source": [
    "grades_dist.ppf(.15)"
   ]
  },
  {
   "cell_type": "code",
   "execution_count": 15,
   "id": "747d089b",
   "metadata": {},
   "outputs": [],
   "source": [
    "ceiling = grades_dist.isf(.2) #3.3\n",
    "floor = grades_dist.ppf(.3) #2.8"
   ]
  },
  {
   "cell_type": "code",
   "execution_count": 17,
   "id": "1ad95a16",
   "metadata": {},
   "outputs": [],
   "source": [
    "# the 3rd decile ranges from 2.8 to 3.3 so a student with a 2.8 will qualify for the\n",
    "# scholarship"
   ]
  },
  {
   "cell_type": "code",
   "execution_count": 20,
   "id": "cab7735a",
   "metadata": {},
   "outputs": [
    {
     "data": {
      "text/plain": [
       "0.0477903522728147"
      ]
     },
     "execution_count": 20,
     "metadata": {},
     "output_type": "execute_result"
    }
   ],
   "source": [
    "grades_dist.sf(3.5) # a 3.5 will put you in the top 5% of your class"
   ]
  },
  {
   "cell_type": "markdown",
   "id": "cc6858df",
   "metadata": {},
   "source": [
    "3. A marketing website has an average click-through rate of 2%. One day they observe 4326 visitors and 97 click-throughs. How likely is it that this many people or more click through?"
   ]
  },
  {
   "cell_type": "code",
   "execution_count": 28,
   "id": "da35888f",
   "metadata": {},
   "outputs": [],
   "source": [
    "visits = 4326\n",
    "clicks = 97\n",
    "s_rate = .02"
   ]
  },
  {
   "cell_type": "code",
   "execution_count": 30,
   "id": "6322c122",
   "metadata": {},
   "outputs": [],
   "source": [
    "web_dist = stats.binom(visits,s_rate)"
   ]
  },
  {
   "cell_type": "code",
   "execution_count": 31,
   "id": "f9fb3e25",
   "metadata": {},
   "outputs": [
    {
     "data": {
      "text/plain": [
       "0.021942930454375544"
      ]
     },
     "execution_count": 31,
     "metadata": {},
     "output_type": "execute_result"
    }
   ],
   "source": [
    "web_dist.pmf(clicks)"
   ]
  },
  {
   "cell_type": "markdown",
   "id": "2e0a0b20",
   "metadata": {},
   "source": [
    "4. You are working on some statistics homework consisting of 100 questions where all of the answers are a probability rounded to the hundreths place. Looking to save time, you put down random probabilities as the answer to each question.\n",
    "\n",
    "- What is the probability that at least one of your first 60 answers is correct?"
   ]
  },
  {
   "cell_type": "code",
   "execution_count": 33,
   "id": "fb4192d1",
   "metadata": {},
   "outputs": [],
   "source": [
    "n = 100\n",
    "p = .01\n",
    "\n",
    "stat_hw_dist = stats.binom(n,p)"
   ]
  },
  {
   "cell_type": "code",
   "execution_count": 34,
   "id": "bb2713e7",
   "metadata": {},
   "outputs": [
    {
     "data": {
      "text/plain": [
       "1.0"
      ]
     },
     "execution_count": 34,
     "metadata": {},
     "output_type": "execute_result"
    }
   ],
   "source": [
    "stat_hw_dist.cdf(60)"
   ]
  },
  {
   "cell_type": "markdown",
   "id": "9a851d39",
   "metadata": {},
   "source": [
    "5. The codeup staff tends to get upset when the student break area is not cleaned up. Suppose that there's a 3% chance that any one student cleans the break area when they visit it, and, on any given day, about 90% of the 3 active cohorts of 22 students visit the break area. How likely is it that the break area gets cleaned up each day? How likely is it that it goes two days without getting cleaned up? All week?"
   ]
  },
  {
   "cell_type": "code",
   "execution_count": 41,
   "id": "74fbb0b4",
   "metadata": {},
   "outputs": [],
   "source": [
    "students = 59\n",
    "chance = .03\n",
    "\n",
    "cleaning_dist = stats.binom(students,chance)"
   ]
  },
  {
   "cell_type": "code",
   "execution_count": 42,
   "id": "c45125c0",
   "metadata": {},
   "outputs": [
    {
     "data": {
      "text/plain": [
       "0.30250590303772024"
      ]
     },
     "execution_count": 42,
     "metadata": {},
     "output_type": "execute_result"
    }
   ],
   "source": [
    "cleaning_dist.pmf(1)"
   ]
  },
  {
   "cell_type": "code",
   "execution_count": 43,
   "id": "59772e20",
   "metadata": {},
   "outputs": [
    {
     "data": {
      "text/plain": [
       "0.27131972746682126"
      ]
     },
     "execution_count": 43,
     "metadata": {},
     "output_type": "execute_result"
    }
   ],
   "source": [
    "cleaning_dist.pmf(2)"
   ]
  },
  {
   "cell_type": "code",
   "execution_count": 44,
   "id": "ce79367b",
   "metadata": {},
   "outputs": [
    {
     "data": {
      "text/plain": [
       "0.02348574035753637"
      ]
     },
     "execution_count": 44,
     "metadata": {},
     "output_type": "execute_result"
    }
   ],
   "source": [
    "cleaning_dist.pmf(5)"
   ]
  },
  {
   "cell_type": "markdown",
   "id": "7a924eea",
   "metadata": {},
   "source": [
    "6. You want to get lunch at La Panaderia, but notice that the line is usually very long at lunchtime. After several weeks of careful observation, you notice that the average number of people in line when your lunch break starts is normally distributed with a mean of 15 and standard deviation of 3. If it takes 2 minutes for each person to order, and 10 minutes from ordering to getting your food, what is the likelihood that you have at least 15 minutes left to eat your food before you have to go back to class? Assume you have one hour for lunch, and ignore travel time to and from La Panaderia."
   ]
  },
  {
   "cell_type": "code",
   "execution_count": 54,
   "id": "8ff305a1",
   "metadata": {},
   "outputs": [],
   "source": [
    "μ = (15*2)+10\n",
    "σ = (3*2)\n",
    "\n",
    "panaderia_dist = stats.norm(μ,σ)"
   ]
  },
  {
   "cell_type": "code",
   "execution_count": 56,
   "id": "9e3eb845",
   "metadata": {},
   "outputs": [
    {
     "data": {
      "text/plain": [
       "0.7976716190363569"
      ]
     },
     "execution_count": 56,
     "metadata": {},
     "output_type": "execute_result"
    }
   ],
   "source": [
    "panaderia_dist.cdf(45)"
   ]
  },
  {
   "cell_type": "markdown",
   "id": "eb702c26",
   "metadata": {},
   "source": [
    "7. Connect to the employees database and find the average salary of current employees, along with the standard deviation. For the following questions, calculate the answer based on modeling the employees salaries with a normal distribution defined by the calculated mean and standard deviation then compare this answer to the actual values present in the salaries dataset.\n",
    "\n",
    "-  What percent of employees earn less than 60,000?\n",
    "- What percent of employees earn more than 95,000?\n",
    "- What percent of employees earn between 65,000 and 80,000?\n",
    "- What do the top 5% of employees make?\n",
    "\n",
    "Hint If you're looking at this exercise and wondering \"How do I get pandas to talk the database, again?\", remember that you'll need 3 things: your .gitignore, your env.py, and to use pd.read_sql. Copy over your .gitignore and env.py from your data science libraries exercises folder, and connect to the employees database like so:"
   ]
  },
  {
   "cell_type": "code",
   "execution_count": 60,
   "id": "5d767985",
   "metadata": {},
   "outputs": [],
   "source": [
    "from env import user,password,host"
   ]
  },
  {
   "cell_type": "code",
   "execution_count": 61,
   "id": "3d02671c",
   "metadata": {},
   "outputs": [],
   "source": [
    "schema = 'employees'\n",
    "\n",
    "get_db_url = f'mysql+pymysql://{user}:{password}@{host}/{schema}'\n",
    "\n",
    "query ='''\n",
    "SELECT\n",
    "*\n",
    "FROM salaries;\n",
    "'''"
   ]
  },
  {
   "cell_type": "code",
   "execution_count": 62,
   "id": "2b6edac6",
   "metadata": {},
   "outputs": [
    {
     "data": {
      "text/html": [
       "<div>\n",
       "<style scoped>\n",
       "    .dataframe tbody tr th:only-of-type {\n",
       "        vertical-align: middle;\n",
       "    }\n",
       "\n",
       "    .dataframe tbody tr th {\n",
       "        vertical-align: top;\n",
       "    }\n",
       "\n",
       "    .dataframe thead th {\n",
       "        text-align: right;\n",
       "    }\n",
       "</style>\n",
       "<table border=\"1\" class=\"dataframe\">\n",
       "  <thead>\n",
       "    <tr style=\"text-align: right;\">\n",
       "      <th></th>\n",
       "      <th>emp_no</th>\n",
       "      <th>salary</th>\n",
       "      <th>from_date</th>\n",
       "      <th>to_date</th>\n",
       "    </tr>\n",
       "  </thead>\n",
       "  <tbody>\n",
       "    <tr>\n",
       "      <th>0</th>\n",
       "      <td>10001</td>\n",
       "      <td>60117</td>\n",
       "      <td>1986-06-26</td>\n",
       "      <td>1987-06-26</td>\n",
       "    </tr>\n",
       "    <tr>\n",
       "      <th>1</th>\n",
       "      <td>10001</td>\n",
       "      <td>62102</td>\n",
       "      <td>1987-06-26</td>\n",
       "      <td>1988-06-25</td>\n",
       "    </tr>\n",
       "    <tr>\n",
       "      <th>2</th>\n",
       "      <td>10001</td>\n",
       "      <td>66074</td>\n",
       "      <td>1988-06-25</td>\n",
       "      <td>1989-06-25</td>\n",
       "    </tr>\n",
       "    <tr>\n",
       "      <th>3</th>\n",
       "      <td>10001</td>\n",
       "      <td>66596</td>\n",
       "      <td>1989-06-25</td>\n",
       "      <td>1990-06-25</td>\n",
       "    </tr>\n",
       "    <tr>\n",
       "      <th>4</th>\n",
       "      <td>10001</td>\n",
       "      <td>66961</td>\n",
       "      <td>1990-06-25</td>\n",
       "      <td>1991-06-25</td>\n",
       "    </tr>\n",
       "  </tbody>\n",
       "</table>\n",
       "</div>"
      ],
      "text/plain": [
       "   emp_no  salary   from_date     to_date\n",
       "0   10001   60117  1986-06-26  1987-06-26\n",
       "1   10001   62102  1987-06-26  1988-06-25\n",
       "2   10001   66074  1988-06-25  1989-06-25\n",
       "3   10001   66596  1989-06-25  1990-06-25\n",
       "4   10001   66961  1990-06-25  1991-06-25"
      ]
     },
     "execution_count": 62,
     "metadata": {},
     "output_type": "execute_result"
    }
   ],
   "source": [
    "salary = pd.read_sql(query, get_db_url)\n",
    "salary.head()"
   ]
  },
  {
   "cell_type": "code",
   "execution_count": 66,
   "id": "cd6bc9f3",
   "metadata": {},
   "outputs": [
    {
     "data": {
      "text/plain": [
       "63810.74"
      ]
     },
     "execution_count": 66,
     "metadata": {},
     "output_type": "execute_result"
    }
   ],
   "source": [
    "avg_salary= round(salary.salary.mean(),2)\n",
    "avg_salary"
   ]
  },
  {
   "cell_type": "code",
   "execution_count": 70,
   "id": "f3cd9fd9",
   "metadata": {},
   "outputs": [
    {
     "data": {
      "text/plain": [
       "16904.83"
      ]
     },
     "execution_count": 70,
     "metadata": {},
     "output_type": "execute_result"
    }
   ],
   "source": [
    "std = round(salary.salary.std(),2)\n",
    "std"
   ]
  },
  {
   "cell_type": "code",
   "execution_count": 71,
   "id": "59b03535",
   "metadata": {},
   "outputs": [],
   "source": [
    "salary_dist = stats.norm(avg_salary, std)"
   ]
  },
  {
   "cell_type": "code",
   "execution_count": 72,
   "id": "ba3d9a0e",
   "metadata": {},
   "outputs": [
    {
     "data": {
      "text/plain": [
       "0.4108250526452645"
      ]
     },
     "execution_count": 72,
     "metadata": {},
     "output_type": "execute_result"
    }
   ],
   "source": [
    "salary_dist.cdf(60_000)"
   ]
  },
  {
   "cell_type": "code",
   "execution_count": 73,
   "id": "591fd322",
   "metadata": {},
   "outputs": [
    {
     "data": {
      "text/plain": [
       "0.03251942050035832"
      ]
     },
     "execution_count": 73,
     "metadata": {},
     "output_type": "execute_result"
    }
   ],
   "source": [
    "salary_dist.sf(95_000)"
   ]
  },
  {
   "cell_type": "code",
   "execution_count": 74,
   "id": "0aca4ac9",
   "metadata": {},
   "outputs": [
    {
     "data": {
      "text/plain": [
       "array([0.52804258, 0.83088558])"
      ]
     },
     "execution_count": 74,
     "metadata": {},
     "output_type": "execute_result"
    }
   ],
   "source": [
    "salary_dist.cdf([65_000,80_000])"
   ]
  },
  {
   "cell_type": "code",
   "execution_count": 75,
   "id": "342fd81e",
   "metadata": {},
   "outputs": [
    {
     "data": {
      "text/plain": [
       "30"
      ]
     },
     "execution_count": 75,
     "metadata": {},
     "output_type": "execute_result"
    }
   ],
   "source": [
    "83-53"
   ]
  },
  {
   "cell_type": "code",
   "execution_count": 76,
   "id": "e3707cea",
   "metadata": {},
   "outputs": [
    {
     "data": {
      "text/plain": [
       "91616.71093849807"
      ]
     },
     "execution_count": 76,
     "metadata": {},
     "output_type": "execute_result"
    }
   ],
   "source": [
    "salary_dist.isf(.05)"
   ]
  },
  {
   "cell_type": "code",
   "execution_count": null,
   "id": "aa8c0838",
   "metadata": {},
   "outputs": [],
   "source": []
  }
 ],
 "metadata": {
  "kernelspec": {
   "display_name": "Python 3 (ipykernel)",
   "language": "python",
   "name": "python3"
  },
  "language_info": {
   "codemirror_mode": {
    "name": "ipython",
    "version": 3
   },
   "file_extension": ".py",
   "mimetype": "text/x-python",
   "name": "python",
   "nbconvert_exporter": "python",
   "pygments_lexer": "ipython3",
   "version": "3.9.12"
  }
 },
 "nbformat": 4,
 "nbformat_minor": 5
}
