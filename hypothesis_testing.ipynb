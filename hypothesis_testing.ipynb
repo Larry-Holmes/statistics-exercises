{
 "cells": [
  {
   "cell_type": "markdown",
   "id": "52c9bcb1",
   "metadata": {},
   "source": [
    "Has the network latency gone up since we switched internet service providers?"
   ]
  },
  {
   "cell_type": "code",
   "execution_count": 1,
   "id": "f45a6e67",
   "metadata": {},
   "outputs": [],
   "source": [
    "# Null Hypothesis\n",
    "\n",
    "# The internet service provider has zero effect on the network latency"
   ]
  },
  {
   "cell_type": "code",
   "execution_count": 2,
   "id": "51d1588a",
   "metadata": {},
   "outputs": [],
   "source": [
    "# Alternative Hypothesis\n",
    "\n",
    "# The internet service provider helped increase the network latency."
   ]
  },
  {
   "cell_type": "code",
   "execution_count": 3,
   "id": "ad6d1c92",
   "metadata": {},
   "outputs": [],
   "source": [
    "# True positive, true negative, type I and type II errors\n",
    "\n",
    "# True positive = I disagree that the ISP has no effect on network latency\n",
    "# and results prove that there is a relation between ISP and network latency.\n",
    "# True negative = I agreed there is no relation between ISP and network latency\n",
    "# and the results show that there isn't a relationship between ISP and network latency.\n",
    "\n",
    "# Type I error = I disagree that the ISP has no effect on network latency, but results \n",
    "# shows that there actually is no relation between ISP and network latency.\n",
    "# Type II error = I agree that there is no relation between ISP and network latency, but\n",
    "# results show that there is a relation between ISP and netowrk latency."
   ]
  },
  {
   "cell_type": "markdown",
   "id": "02bd6d7c",
   "metadata": {},
   "source": [
    "Is the website redesign any good?"
   ]
  },
  {
   "cell_type": "code",
   "execution_count": 4,
   "id": "051d5207",
   "metadata": {},
   "outputs": [],
   "source": [
    "# Null Hypothesis\n",
    "\n",
    "# The website redesign is not good."
   ]
  },
  {
   "cell_type": "code",
   "execution_count": 5,
   "id": "bfb781ee",
   "metadata": {},
   "outputs": [],
   "source": [
    "# Alternative Hypothesis\n",
    "\n",
    "# The website redesign is good."
   ]
  },
  {
   "cell_type": "code",
   "execution_count": 9,
   "id": "4e65f079",
   "metadata": {},
   "outputs": [],
   "source": [
    "# True positive, true negative, type I and type II errors\n",
    "\n",
    "# True Positive = I disagree that the redesign was good and it ends up actually not \n",
    "# being good\n",
    "# True Negative = I agree that the redesign is good and it end up being good.\n",
    "# Type I Error = I disagree that the redesign was good, but results say that it was good.\n",
    "# Type II Error = I agree that the redesign is good, but the results say that it was NOT good.\n"
   ]
  },
  {
   "cell_type": "markdown",
   "id": "80ff64eb",
   "metadata": {},
   "source": [
    "Is our television ad driving more sales?"
   ]
  },
  {
   "cell_type": "code",
   "execution_count": 7,
   "id": "536f4704",
   "metadata": {},
   "outputs": [],
   "source": [
    "# Null Hypothesis\n",
    "\n",
    "# Television ads have no effect on sales"
   ]
  },
  {
   "cell_type": "code",
   "execution_count": 8,
   "id": "a273a0c8",
   "metadata": {},
   "outputs": [],
   "source": [
    "# Alternative Hypothesis\n",
    "\n",
    "# Television ads drive more sales"
   ]
  },
  {
   "cell_type": "code",
   "execution_count": 10,
   "id": "0cc72abf",
   "metadata": {},
   "outputs": [],
   "source": [
    "# True positive, true negative, type I and type II errors\n",
    "\n",
    "# True Positive = I disagree with the statement that TV ads have no effect on sales and \n",
    "# the results return that tv ads do have an effect on sales.\n",
    "# True Negative = I agree with the statement that TV ads have no effect on sales and the\n",
    "# results return that tv ads indeed do not have an effect on sales.\n",
    "# Type I Error = I disagree with the statement that TV ads have no effect on sales, but the\n",
    "# results return that tv ads indeed do NOT have an effect on sales.\n",
    "# Type II Error = I aggree with the statement that TV ads have no effect on sales, but the \n",
    "# results return that tv ads actually do have an effect on sales."
   ]
  },
  {
   "cell_type": "code",
   "execution_count": 11,
   "id": "835a9fbb",
   "metadata": {},
   "outputs": [],
   "source": [
    "import numpy as np\n",
    "import pandas as pd\n",
    "import seaborn as sns\n",
    "import scipy.stats as stats\n",
    "import matplotlib.pyplot as plt"
   ]
  },
  {
   "cell_type": "markdown",
   "id": "afe39ffb",
   "metadata": {},
   "source": [
    "Ace Realty wants to determine whether the average time it takes to sell homes is different for its two offices. A sample of 40 sales from office #1 revealed a mean of 90 days and a standard deviation of 15 days. A sample of 50 sales from office #2 revealed a mean of 100 days and a standard deviation of 20 days. Use a .05 level of significance.\n"
   ]
  },
  {
   "cell_type": "code",
   "execution_count": null,
   "id": "5e2ddb3f",
   "metadata": {},
   "outputs": [],
   "source": [
    "# H0: The average time it takes to sell homes for office 1 is NO different than the time it takes to sell homes for\n",
    "# office 2.\n",
    "\n",
    "# Ha: The average time it takes to sell homes for office 1 is different than the time it takes to sell homes for\n",
    "# office 2."
   ]
  },
  {
   "cell_type": "code",
   "execution_count": 12,
   "id": "d16f8a34",
   "metadata": {},
   "outputs": [],
   "source": [
    "σ = 0.05"
   ]
  },
  {
   "cell_type": "code",
   "execution_count": null,
   "id": "3ac61528",
   "metadata": {},
   "outputs": [],
   "source": [
    "# This situation would require a two sample, two tail ttest or Independent T-Test\n",
    "# It is normal distribution (more than 30 samples for each sample group)\n",
    "# I would imagine they are independent samples since they are categorized as samples for separate offices.\n",
    "# No equal variances"
   ]
  },
  {
   "cell_type": "code",
   "execution_count": 13,
   "id": "b9036171",
   "metadata": {},
   "outputs": [],
   "source": [
    "t, p = stats.ttest_ind_from_stats(90, 15, 40, 100, 20, 50, equal_var=False)"
   ]
  },
  {
   "cell_type": "code",
   "execution_count": 14,
   "id": "2430af96",
   "metadata": {},
   "outputs": [
    {
     "data": {
      "text/plain": [
       "-2.7091418459143854"
      ]
     },
     "execution_count": 14,
     "metadata": {},
     "output_type": "execute_result"
    }
   ],
   "source": [
    "t"
   ]
  },
  {
   "cell_type": "code",
   "execution_count": 15,
   "id": "d086d208",
   "metadata": {},
   "outputs": [
    {
     "data": {
      "text/plain": [
       "0.00811206270346016"
      ]
     },
     "execution_count": 15,
     "metadata": {},
     "output_type": "execute_result"
    }
   ],
   "source": [
    "p"
   ]
  },
  {
   "cell_type": "code",
   "execution_count": 18,
   "id": "c75e6c23",
   "metadata": {},
   "outputs": [
    {
     "name": "stdout",
     "output_type": "stream",
     "text": [
      "we cannot reject the null hypothesis\n"
     ]
    }
   ],
   "source": [
    "if (t>0) and (p > σ):\n",
    "    print(\"we can reject the null hypothesis\")\n",
    "else:\n",
    "    print(\"we cannot reject the null hypothesis\")"
   ]
  },
  {
   "cell_type": "markdown",
   "id": "498bfa1c",
   "metadata": {},
   "source": [
    "Load the mpg dataset and use it to answer the following questions:\n",
    "\n",
    "- Is there a difference in fuel-efficiency in cars from 2008 vs 1999?\n",
    "- Are compact cars more fuel-efficient than the average car?\n",
    "- Do manual cars get better gas mileage than automatic cars?"
   ]
  },
  {
   "cell_type": "code",
   "execution_count": 21,
   "id": "d5bd89b0",
   "metadata": {},
   "outputs": [
    {
     "data": {
      "text/html": [
       "<div>\n",
       "<style scoped>\n",
       "    .dataframe tbody tr th:only-of-type {\n",
       "        vertical-align: middle;\n",
       "    }\n",
       "\n",
       "    .dataframe tbody tr th {\n",
       "        vertical-align: top;\n",
       "    }\n",
       "\n",
       "    .dataframe thead th {\n",
       "        text-align: right;\n",
       "    }\n",
       "</style>\n",
       "<table border=\"1\" class=\"dataframe\">\n",
       "  <thead>\n",
       "    <tr style=\"text-align: right;\">\n",
       "      <th></th>\n",
       "      <th>manufacturer</th>\n",
       "      <th>model</th>\n",
       "      <th>displ</th>\n",
       "      <th>year</th>\n",
       "      <th>cyl</th>\n",
       "      <th>trans</th>\n",
       "      <th>drv</th>\n",
       "      <th>cty</th>\n",
       "      <th>hwy</th>\n",
       "      <th>fl</th>\n",
       "      <th>class</th>\n",
       "    </tr>\n",
       "  </thead>\n",
       "  <tbody>\n",
       "    <tr>\n",
       "      <th>1</th>\n",
       "      <td>audi</td>\n",
       "      <td>a4</td>\n",
       "      <td>1.8</td>\n",
       "      <td>1999</td>\n",
       "      <td>4</td>\n",
       "      <td>auto(l5)</td>\n",
       "      <td>f</td>\n",
       "      <td>18</td>\n",
       "      <td>29</td>\n",
       "      <td>p</td>\n",
       "      <td>compact</td>\n",
       "    </tr>\n",
       "    <tr>\n",
       "      <th>2</th>\n",
       "      <td>audi</td>\n",
       "      <td>a4</td>\n",
       "      <td>1.8</td>\n",
       "      <td>1999</td>\n",
       "      <td>4</td>\n",
       "      <td>manual(m5)</td>\n",
       "      <td>f</td>\n",
       "      <td>21</td>\n",
       "      <td>29</td>\n",
       "      <td>p</td>\n",
       "      <td>compact</td>\n",
       "    </tr>\n",
       "    <tr>\n",
       "      <th>3</th>\n",
       "      <td>audi</td>\n",
       "      <td>a4</td>\n",
       "      <td>2.0</td>\n",
       "      <td>2008</td>\n",
       "      <td>4</td>\n",
       "      <td>manual(m6)</td>\n",
       "      <td>f</td>\n",
       "      <td>20</td>\n",
       "      <td>31</td>\n",
       "      <td>p</td>\n",
       "      <td>compact</td>\n",
       "    </tr>\n",
       "    <tr>\n",
       "      <th>4</th>\n",
       "      <td>audi</td>\n",
       "      <td>a4</td>\n",
       "      <td>2.0</td>\n",
       "      <td>2008</td>\n",
       "      <td>4</td>\n",
       "      <td>auto(av)</td>\n",
       "      <td>f</td>\n",
       "      <td>21</td>\n",
       "      <td>30</td>\n",
       "      <td>p</td>\n",
       "      <td>compact</td>\n",
       "    </tr>\n",
       "    <tr>\n",
       "      <th>5</th>\n",
       "      <td>audi</td>\n",
       "      <td>a4</td>\n",
       "      <td>2.8</td>\n",
       "      <td>1999</td>\n",
       "      <td>6</td>\n",
       "      <td>auto(l5)</td>\n",
       "      <td>f</td>\n",
       "      <td>16</td>\n",
       "      <td>26</td>\n",
       "      <td>p</td>\n",
       "      <td>compact</td>\n",
       "    </tr>\n",
       "    <tr>\n",
       "      <th>...</th>\n",
       "      <td>...</td>\n",
       "      <td>...</td>\n",
       "      <td>...</td>\n",
       "      <td>...</td>\n",
       "      <td>...</td>\n",
       "      <td>...</td>\n",
       "      <td>...</td>\n",
       "      <td>...</td>\n",
       "      <td>...</td>\n",
       "      <td>...</td>\n",
       "      <td>...</td>\n",
       "    </tr>\n",
       "    <tr>\n",
       "      <th>230</th>\n",
       "      <td>volkswagen</td>\n",
       "      <td>passat</td>\n",
       "      <td>2.0</td>\n",
       "      <td>2008</td>\n",
       "      <td>4</td>\n",
       "      <td>auto(s6)</td>\n",
       "      <td>f</td>\n",
       "      <td>19</td>\n",
       "      <td>28</td>\n",
       "      <td>p</td>\n",
       "      <td>midsize</td>\n",
       "    </tr>\n",
       "    <tr>\n",
       "      <th>231</th>\n",
       "      <td>volkswagen</td>\n",
       "      <td>passat</td>\n",
       "      <td>2.0</td>\n",
       "      <td>2008</td>\n",
       "      <td>4</td>\n",
       "      <td>manual(m6)</td>\n",
       "      <td>f</td>\n",
       "      <td>21</td>\n",
       "      <td>29</td>\n",
       "      <td>p</td>\n",
       "      <td>midsize</td>\n",
       "    </tr>\n",
       "    <tr>\n",
       "      <th>232</th>\n",
       "      <td>volkswagen</td>\n",
       "      <td>passat</td>\n",
       "      <td>2.8</td>\n",
       "      <td>1999</td>\n",
       "      <td>6</td>\n",
       "      <td>auto(l5)</td>\n",
       "      <td>f</td>\n",
       "      <td>16</td>\n",
       "      <td>26</td>\n",
       "      <td>p</td>\n",
       "      <td>midsize</td>\n",
       "    </tr>\n",
       "    <tr>\n",
       "      <th>233</th>\n",
       "      <td>volkswagen</td>\n",
       "      <td>passat</td>\n",
       "      <td>2.8</td>\n",
       "      <td>1999</td>\n",
       "      <td>6</td>\n",
       "      <td>manual(m5)</td>\n",
       "      <td>f</td>\n",
       "      <td>18</td>\n",
       "      <td>26</td>\n",
       "      <td>p</td>\n",
       "      <td>midsize</td>\n",
       "    </tr>\n",
       "    <tr>\n",
       "      <th>234</th>\n",
       "      <td>volkswagen</td>\n",
       "      <td>passat</td>\n",
       "      <td>3.6</td>\n",
       "      <td>2008</td>\n",
       "      <td>6</td>\n",
       "      <td>auto(s6)</td>\n",
       "      <td>f</td>\n",
       "      <td>17</td>\n",
       "      <td>26</td>\n",
       "      <td>p</td>\n",
       "      <td>midsize</td>\n",
       "    </tr>\n",
       "  </tbody>\n",
       "</table>\n",
       "<p>234 rows × 11 columns</p>\n",
       "</div>"
      ],
      "text/plain": [
       "    manufacturer   model  displ  year  cyl       trans drv  cty  hwy fl  \\\n",
       "1           audi      a4    1.8  1999    4    auto(l5)   f   18   29  p   \n",
       "2           audi      a4    1.8  1999    4  manual(m5)   f   21   29  p   \n",
       "3           audi      a4    2.0  2008    4  manual(m6)   f   20   31  p   \n",
       "4           audi      a4    2.0  2008    4    auto(av)   f   21   30  p   \n",
       "5           audi      a4    2.8  1999    6    auto(l5)   f   16   26  p   \n",
       "..           ...     ...    ...   ...  ...         ...  ..  ...  ... ..   \n",
       "230   volkswagen  passat    2.0  2008    4    auto(s6)   f   19   28  p   \n",
       "231   volkswagen  passat    2.0  2008    4  manual(m6)   f   21   29  p   \n",
       "232   volkswagen  passat    2.8  1999    6    auto(l5)   f   16   26  p   \n",
       "233   volkswagen  passat    2.8  1999    6  manual(m5)   f   18   26  p   \n",
       "234   volkswagen  passat    3.6  2008    6    auto(s6)   f   17   26  p   \n",
       "\n",
       "       class  \n",
       "1    compact  \n",
       "2    compact  \n",
       "3    compact  \n",
       "4    compact  \n",
       "5    compact  \n",
       "..       ...  \n",
       "230  midsize  \n",
       "231  midsize  \n",
       "232  midsize  \n",
       "233  midsize  \n",
       "234  midsize  \n",
       "\n",
       "[234 rows x 11 columns]"
      ]
     },
     "execution_count": 21,
     "metadata": {},
     "output_type": "execute_result"
    }
   ],
   "source": [
    "from pydataset import data\n",
    "mpg = data('mpg')\n",
    "mpg"
   ]
  },
  {
   "cell_type": "code",
   "execution_count": 19,
   "id": "62ab153b",
   "metadata": {},
   "outputs": [],
   "source": [
    "# H0: The fuel-efficiency of cars in 2008 is == the fuel-efficiency of cars in 1999\n",
    "\n",
    "# Ha: The fuel-efficiency of cars in 2008 is != the fuel-efficiency of cars in 1999\n"
   ]
  },
  {
   "cell_type": "code",
   "execution_count": 33,
   "id": "66a0f86b",
   "metadata": {},
   "outputs": [],
   "source": [
    "older_sample = mpg[mpg.year == 1999]['displ']\n",
    "newer_sample = mpg[mpg.year == 2008]['displ']"
   ]
  },
  {
   "cell_type": "code",
   "execution_count": 34,
   "id": "9a71f817",
   "metadata": {},
   "outputs": [],
   "source": [
    "t_fuel, p_fuel = stats.ttest_ind(older_sample,newer_sample,equal_var=False)"
   ]
  },
  {
   "cell_type": "code",
   "execution_count": 35,
   "id": "7b84349b",
   "metadata": {},
   "outputs": [
    {
     "data": {
      "text/plain": [
       "-2.276895793966093"
      ]
     },
     "execution_count": 35,
     "metadata": {},
     "output_type": "execute_result"
    }
   ],
   "source": [
    "t_fuel"
   ]
  },
  {
   "cell_type": "code",
   "execution_count": 36,
   "id": "d97b18a8",
   "metadata": {},
   "outputs": [
    {
     "data": {
      "text/plain": [
       "0.023704907600218282"
      ]
     },
     "execution_count": 36,
     "metadata": {},
     "output_type": "execute_result"
    }
   ],
   "source": [
    "p_fuel"
   ]
  },
  {
   "cell_type": "code",
   "execution_count": 37,
   "id": "bf0a8f61",
   "metadata": {},
   "outputs": [
    {
     "name": "stdout",
     "output_type": "stream",
     "text": [
      "we can reject the null hypothesis\n"
     ]
    }
   ],
   "source": [
    "if p < 0.05:\n",
    "    print(\"we can reject the null hypothesis\")\n",
    "else:\n",
    "    print(\"we cannot reject the null hypothesis\")"
   ]
  },
  {
   "cell_type": "markdown",
   "id": "c1ba4ee4",
   "metadata": {},
   "source": [
    "Are compact cars more fuel-efficient than the average car?"
   ]
  },
  {
   "cell_type": "code",
   "execution_count": 38,
   "id": "0a8425bc",
   "metadata": {},
   "outputs": [],
   "source": [
    "# H0:  Compact car's fuel efficiency is =< the fuel efficiency of the avg car\n",
    "\n",
    "# Ha:  Compact car's fuel efficiency is > the fuel efficiency of the avg car"
   ]
  },
  {
   "cell_type": "code",
   "execution_count": 45,
   "id": "dcb90bfb",
   "metadata": {},
   "outputs": [],
   "source": [
    "compact_sample = mpg[mpg['class'] == 'compact']['displ']\n",
    "avg_pop = mpg.displ.mean()"
   ]
  },
  {
   "cell_type": "code",
   "execution_count": 46,
   "id": "66fb3f4d",
   "metadata": {},
   "outputs": [],
   "source": [
    "t, p = stats.ttest_1samp(compact_sample, avg_pop)"
   ]
  },
  {
   "cell_type": "code",
   "execution_count": 47,
   "id": "1ca46ec9",
   "metadata": {},
   "outputs": [
    {
     "data": {
      "text/plain": [
       "-17.37528836118404"
      ]
     },
     "execution_count": 47,
     "metadata": {},
     "output_type": "execute_result"
    }
   ],
   "source": [
    "t"
   ]
  },
  {
   "cell_type": "code",
   "execution_count": 49,
   "id": "7f652f9a",
   "metadata": {},
   "outputs": [
    {
     "data": {
      "text/plain": [
       "3.8597399026430325e-22"
      ]
     },
     "execution_count": 49,
     "metadata": {},
     "output_type": "execute_result"
    }
   ],
   "source": [
    "p/2"
   ]
  },
  {
   "cell_type": "code",
   "execution_count": 50,
   "id": "d9b61263",
   "metadata": {},
   "outputs": [
    {
     "name": "stdout",
     "output_type": "stream",
     "text": [
      "we cannot reject the null hypothesis\n"
     ]
    }
   ],
   "source": [
    "if (t > 0) and (p/2 > 0.05):\n",
    "    print(\"we can reject the null hypothesis\")\n",
    "else:\n",
    "    print(\"we cannot reject the null hypothesis\")"
   ]
  },
  {
   "cell_type": "markdown",
   "id": "58d3454c",
   "metadata": {},
   "source": [
    "Do manual cars get better gas mileage than automatic cars?"
   ]
  },
  {
   "cell_type": "code",
   "execution_count": 51,
   "id": "9fb6ad55",
   "metadata": {},
   "outputs": [],
   "source": [
    "# H0: Manual cars gas mileage is =< automatic cars gas mileage\n",
    "\n",
    "# Ha: Manual cars gas mileage is >  automatic cars gas mileage"
   ]
  },
  {
   "cell_type": "code",
   "execution_count": 54,
   "id": "6c19cf8a",
   "metadata": {},
   "outputs": [
    {
     "data": {
      "text/plain": [
       "1      62.068966\n",
       "2      72.413793\n",
       "3      64.516129\n",
       "4      70.000000\n",
       "5      61.538462\n",
       "         ...    \n",
       "230    67.857143\n",
       "231    72.413793\n",
       "232    61.538462\n",
       "233    69.230769\n",
       "234    65.384615\n",
       "Length: 234, dtype: float64"
      ]
     },
     "execution_count": 54,
     "metadata": {},
     "output_type": "execute_result"
    }
   ],
   "source": [
    "(mpg.cty/mpg.hwy)*100"
   ]
  },
  {
   "cell_type": "code",
   "execution_count": 55,
   "id": "b057a418",
   "metadata": {},
   "outputs": [],
   "source": [
    "mpg['gas_mileage'] = round((mpg.cty/mpg.hwy)*100,2)"
   ]
  },
  {
   "cell_type": "code",
   "execution_count": 56,
   "id": "9f67404d",
   "metadata": {},
   "outputs": [
    {
     "data": {
      "text/html": [
       "<div>\n",
       "<style scoped>\n",
       "    .dataframe tbody tr th:only-of-type {\n",
       "        vertical-align: middle;\n",
       "    }\n",
       "\n",
       "    .dataframe tbody tr th {\n",
       "        vertical-align: top;\n",
       "    }\n",
       "\n",
       "    .dataframe thead th {\n",
       "        text-align: right;\n",
       "    }\n",
       "</style>\n",
       "<table border=\"1\" class=\"dataframe\">\n",
       "  <thead>\n",
       "    <tr style=\"text-align: right;\">\n",
       "      <th></th>\n",
       "      <th>manufacturer</th>\n",
       "      <th>model</th>\n",
       "      <th>displ</th>\n",
       "      <th>year</th>\n",
       "      <th>cyl</th>\n",
       "      <th>trans</th>\n",
       "      <th>drv</th>\n",
       "      <th>cty</th>\n",
       "      <th>hwy</th>\n",
       "      <th>fl</th>\n",
       "      <th>class</th>\n",
       "      <th>gas_mileage</th>\n",
       "    </tr>\n",
       "  </thead>\n",
       "  <tbody>\n",
       "    <tr>\n",
       "      <th>1</th>\n",
       "      <td>audi</td>\n",
       "      <td>a4</td>\n",
       "      <td>1.8</td>\n",
       "      <td>1999</td>\n",
       "      <td>4</td>\n",
       "      <td>auto(l5)</td>\n",
       "      <td>f</td>\n",
       "      <td>18</td>\n",
       "      <td>29</td>\n",
       "      <td>p</td>\n",
       "      <td>compact</td>\n",
       "      <td>62.07</td>\n",
       "    </tr>\n",
       "    <tr>\n",
       "      <th>2</th>\n",
       "      <td>audi</td>\n",
       "      <td>a4</td>\n",
       "      <td>1.8</td>\n",
       "      <td>1999</td>\n",
       "      <td>4</td>\n",
       "      <td>manual(m5)</td>\n",
       "      <td>f</td>\n",
       "      <td>21</td>\n",
       "      <td>29</td>\n",
       "      <td>p</td>\n",
       "      <td>compact</td>\n",
       "      <td>72.41</td>\n",
       "    </tr>\n",
       "    <tr>\n",
       "      <th>3</th>\n",
       "      <td>audi</td>\n",
       "      <td>a4</td>\n",
       "      <td>2.0</td>\n",
       "      <td>2008</td>\n",
       "      <td>4</td>\n",
       "      <td>manual(m6)</td>\n",
       "      <td>f</td>\n",
       "      <td>20</td>\n",
       "      <td>31</td>\n",
       "      <td>p</td>\n",
       "      <td>compact</td>\n",
       "      <td>64.52</td>\n",
       "    </tr>\n",
       "    <tr>\n",
       "      <th>4</th>\n",
       "      <td>audi</td>\n",
       "      <td>a4</td>\n",
       "      <td>2.0</td>\n",
       "      <td>2008</td>\n",
       "      <td>4</td>\n",
       "      <td>auto(av)</td>\n",
       "      <td>f</td>\n",
       "      <td>21</td>\n",
       "      <td>30</td>\n",
       "      <td>p</td>\n",
       "      <td>compact</td>\n",
       "      <td>70.00</td>\n",
       "    </tr>\n",
       "    <tr>\n",
       "      <th>5</th>\n",
       "      <td>audi</td>\n",
       "      <td>a4</td>\n",
       "      <td>2.8</td>\n",
       "      <td>1999</td>\n",
       "      <td>6</td>\n",
       "      <td>auto(l5)</td>\n",
       "      <td>f</td>\n",
       "      <td>16</td>\n",
       "      <td>26</td>\n",
       "      <td>p</td>\n",
       "      <td>compact</td>\n",
       "      <td>61.54</td>\n",
       "    </tr>\n",
       "    <tr>\n",
       "      <th>...</th>\n",
       "      <td>...</td>\n",
       "      <td>...</td>\n",
       "      <td>...</td>\n",
       "      <td>...</td>\n",
       "      <td>...</td>\n",
       "      <td>...</td>\n",
       "      <td>...</td>\n",
       "      <td>...</td>\n",
       "      <td>...</td>\n",
       "      <td>...</td>\n",
       "      <td>...</td>\n",
       "      <td>...</td>\n",
       "    </tr>\n",
       "    <tr>\n",
       "      <th>230</th>\n",
       "      <td>volkswagen</td>\n",
       "      <td>passat</td>\n",
       "      <td>2.0</td>\n",
       "      <td>2008</td>\n",
       "      <td>4</td>\n",
       "      <td>auto(s6)</td>\n",
       "      <td>f</td>\n",
       "      <td>19</td>\n",
       "      <td>28</td>\n",
       "      <td>p</td>\n",
       "      <td>midsize</td>\n",
       "      <td>67.86</td>\n",
       "    </tr>\n",
       "    <tr>\n",
       "      <th>231</th>\n",
       "      <td>volkswagen</td>\n",
       "      <td>passat</td>\n",
       "      <td>2.0</td>\n",
       "      <td>2008</td>\n",
       "      <td>4</td>\n",
       "      <td>manual(m6)</td>\n",
       "      <td>f</td>\n",
       "      <td>21</td>\n",
       "      <td>29</td>\n",
       "      <td>p</td>\n",
       "      <td>midsize</td>\n",
       "      <td>72.41</td>\n",
       "    </tr>\n",
       "    <tr>\n",
       "      <th>232</th>\n",
       "      <td>volkswagen</td>\n",
       "      <td>passat</td>\n",
       "      <td>2.8</td>\n",
       "      <td>1999</td>\n",
       "      <td>6</td>\n",
       "      <td>auto(l5)</td>\n",
       "      <td>f</td>\n",
       "      <td>16</td>\n",
       "      <td>26</td>\n",
       "      <td>p</td>\n",
       "      <td>midsize</td>\n",
       "      <td>61.54</td>\n",
       "    </tr>\n",
       "    <tr>\n",
       "      <th>233</th>\n",
       "      <td>volkswagen</td>\n",
       "      <td>passat</td>\n",
       "      <td>2.8</td>\n",
       "      <td>1999</td>\n",
       "      <td>6</td>\n",
       "      <td>manual(m5)</td>\n",
       "      <td>f</td>\n",
       "      <td>18</td>\n",
       "      <td>26</td>\n",
       "      <td>p</td>\n",
       "      <td>midsize</td>\n",
       "      <td>69.23</td>\n",
       "    </tr>\n",
       "    <tr>\n",
       "      <th>234</th>\n",
       "      <td>volkswagen</td>\n",
       "      <td>passat</td>\n",
       "      <td>3.6</td>\n",
       "      <td>2008</td>\n",
       "      <td>6</td>\n",
       "      <td>auto(s6)</td>\n",
       "      <td>f</td>\n",
       "      <td>17</td>\n",
       "      <td>26</td>\n",
       "      <td>p</td>\n",
       "      <td>midsize</td>\n",
       "      <td>65.38</td>\n",
       "    </tr>\n",
       "  </tbody>\n",
       "</table>\n",
       "<p>234 rows × 12 columns</p>\n",
       "</div>"
      ],
      "text/plain": [
       "    manufacturer   model  displ  year  cyl       trans drv  cty  hwy fl  \\\n",
       "1           audi      a4    1.8  1999    4    auto(l5)   f   18   29  p   \n",
       "2           audi      a4    1.8  1999    4  manual(m5)   f   21   29  p   \n",
       "3           audi      a4    2.0  2008    4  manual(m6)   f   20   31  p   \n",
       "4           audi      a4    2.0  2008    4    auto(av)   f   21   30  p   \n",
       "5           audi      a4    2.8  1999    6    auto(l5)   f   16   26  p   \n",
       "..           ...     ...    ...   ...  ...         ...  ..  ...  ... ..   \n",
       "230   volkswagen  passat    2.0  2008    4    auto(s6)   f   19   28  p   \n",
       "231   volkswagen  passat    2.0  2008    4  manual(m6)   f   21   29  p   \n",
       "232   volkswagen  passat    2.8  1999    6    auto(l5)   f   16   26  p   \n",
       "233   volkswagen  passat    2.8  1999    6  manual(m5)   f   18   26  p   \n",
       "234   volkswagen  passat    3.6  2008    6    auto(s6)   f   17   26  p   \n",
       "\n",
       "       class  gas_mileage  \n",
       "1    compact        62.07  \n",
       "2    compact        72.41  \n",
       "3    compact        64.52  \n",
       "4    compact        70.00  \n",
       "5    compact        61.54  \n",
       "..       ...          ...  \n",
       "230  midsize        67.86  \n",
       "231  midsize        72.41  \n",
       "232  midsize        61.54  \n",
       "233  midsize        69.23  \n",
       "234  midsize        65.38  \n",
       "\n",
       "[234 rows x 12 columns]"
      ]
     },
     "execution_count": 56,
     "metadata": {},
     "output_type": "execute_result"
    }
   ],
   "source": [
    "mpg"
   ]
  },
  {
   "cell_type": "code",
   "execution_count": 61,
   "id": "f03cb711",
   "metadata": {},
   "outputs": [
    {
     "data": {
      "text/plain": [
       "array(['auto(l5)', 'manual(m5)', 'manual(m6)', 'auto(av)', 'auto(s6)',\n",
       "       'auto(l4)', 'auto(l3)', 'auto(l6)', 'auto(s5)', 'auto(s4)'],\n",
       "      dtype=object)"
      ]
     },
     "execution_count": 61,
     "metadata": {},
     "output_type": "execute_result"
    }
   ],
   "source": [
    "mpg.trans.unique()"
   ]
  },
  {
   "cell_type": "code",
   "execution_count": 70,
   "id": "4b13fba2",
   "metadata": {},
   "outputs": [],
   "source": [
    "man_sample = mpg[(mpg.trans == 'manual(m5)') | (mpg.trans == 'manual(m6)')]['gas_mileage']\n",
    "\n",
    "auto_sample = mpg[(mpg.trans != 'manual(m5)') & (mpg.trans != 'manual(m6)')]['gas_mileage']\n"
   ]
  },
  {
   "cell_type": "code",
   "execution_count": 71,
   "id": "408570c3",
   "metadata": {},
   "outputs": [],
   "source": [
    "t, p = stats.ttest_ind(man_sample, auto_sample, equal_var=False)"
   ]
  },
  {
   "cell_type": "code",
   "execution_count": 72,
   "id": "d9f050aa",
   "metadata": {},
   "outputs": [
    {
     "data": {
      "text/plain": [
       "0.8003829262273052"
      ]
     },
     "execution_count": 72,
     "metadata": {},
     "output_type": "execute_result"
    }
   ],
   "source": [
    "t"
   ]
  },
  {
   "cell_type": "code",
   "execution_count": 73,
   "id": "54a3d1a1",
   "metadata": {},
   "outputs": [
    {
     "data": {
      "text/plain": [
       "0.4248671789945586"
      ]
     },
     "execution_count": 73,
     "metadata": {},
     "output_type": "execute_result"
    }
   ],
   "source": [
    "p"
   ]
  },
  {
   "cell_type": "code",
   "execution_count": 74,
   "id": "96763db2",
   "metadata": {},
   "outputs": [
    {
     "name": "stdout",
     "output_type": "stream",
     "text": [
      "we can reject the null hypothesis\n"
     ]
    }
   ],
   "source": [
    "if (t > 0) and (p/2 > 0.05):\n",
    "    print(\"we can reject the null hypothesis\")\n",
    "else:\n",
    "    print(\"we cannot reject the null hypothesis\")"
   ]
  },
  {
   "cell_type": "code",
   "execution_count": null,
   "id": "34f41e93",
   "metadata": {},
   "outputs": [],
   "source": []
  }
 ],
 "metadata": {
  "kernelspec": {
   "display_name": "Python 3 (ipykernel)",
   "language": "python",
   "name": "python3"
  },
  "language_info": {
   "codemirror_mode": {
    "name": "ipython",
    "version": 3
   },
   "file_extension": ".py",
   "mimetype": "text/x-python",
   "name": "python",
   "nbconvert_exporter": "python",
   "pygments_lexer": "ipython3",
   "version": "3.9.12"
  }
 },
 "nbformat": 4,
 "nbformat_minor": 5
}
