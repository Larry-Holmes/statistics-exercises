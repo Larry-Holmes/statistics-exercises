{
 "cells": [
  {
   "cell_type": "markdown",
   "id": "52c9bcb1",
   "metadata": {},
   "source": [
    "Has the network latency gone up since we switched internet service providers?"
   ]
  },
  {
   "cell_type": "code",
   "execution_count": 1,
   "id": "f45a6e67",
   "metadata": {},
   "outputs": [],
   "source": [
    "# Null Hypothesis\n",
    "\n",
    "# The internet service provider has zero effect on the network latency"
   ]
  },
  {
   "cell_type": "code",
   "execution_count": 2,
   "id": "51d1588a",
   "metadata": {},
   "outputs": [],
   "source": [
    "# Alternative Hypothesis\n",
    "\n",
    "# The internet service provider helped increase the network latency."
   ]
  },
  {
   "cell_type": "code",
   "execution_count": 3,
   "id": "ad6d1c92",
   "metadata": {},
   "outputs": [],
   "source": [
    "# True positive, true negative, type I and type II errors\n",
    "\n",
    "# True positive = I disagree that the ISP has no effect on network latency\n",
    "# and results prove that there is a relation between ISP and network latency.\n",
    "# True negative = I agreed there is no relation between ISP and network latency\n",
    "# and the results show that there isn't a relationship between ISP and network latency.\n",
    "\n",
    "# Type I error = I disagree that the ISP has no effect on network latency, but results \n",
    "# shows that there actually is no relation between ISP and network latency.\n",
    "# Type II error = I agree that there is no relation between ISP and network latency, but\n",
    "# results show that there is a relation between ISP and netowrk latency."
   ]
  },
  {
   "cell_type": "markdown",
   "id": "02bd6d7c",
   "metadata": {},
   "source": [
    "Is the website redesign any good?"
   ]
  },
  {
   "cell_type": "code",
   "execution_count": 4,
   "id": "051d5207",
   "metadata": {},
   "outputs": [],
   "source": [
    "# Null Hypothesis\n",
    "\n",
    "# The website redesign is not good."
   ]
  },
  {
   "cell_type": "code",
   "execution_count": 5,
   "id": "bfb781ee",
   "metadata": {},
   "outputs": [],
   "source": [
    "# Alternative Hypothesis\n",
    "\n",
    "# The website redesign is good."
   ]
  },
  {
   "cell_type": "code",
   "execution_count": 9,
   "id": "4e65f079",
   "metadata": {},
   "outputs": [],
   "source": [
    "# True positive, true negative, type I and type II errors\n",
    "\n",
    "# True Positive = I disagree that the redesign was good and it ends up actually not \n",
    "# being good\n",
    "# True Negative = I agree that the redesign is good and it end up being good.\n",
    "# Type I Error = I disagree that the redesign was good, but results say that it was good.\n",
    "# Type II Error = I agree that the redesign is good, but the results say that it was NOT good.\n"
   ]
  },
  {
   "cell_type": "markdown",
   "id": "80ff64eb",
   "metadata": {},
   "source": [
    "Is our television ad driving more sales?"
   ]
  },
  {
   "cell_type": "code",
   "execution_count": 7,
   "id": "536f4704",
   "metadata": {},
   "outputs": [],
   "source": [
    "# Null Hypothesis\n",
    "\n",
    "# Television ads have no effect on sales"
   ]
  },
  {
   "cell_type": "code",
   "execution_count": 8,
   "id": "a273a0c8",
   "metadata": {},
   "outputs": [],
   "source": [
    "# Alternative Hypothesis\n",
    "\n",
    "# Television ads drive more sales"
   ]
  },
  {
   "cell_type": "code",
   "execution_count": 10,
   "id": "0cc72abf",
   "metadata": {},
   "outputs": [],
   "source": [
    "# True positive, true negative, type I and type II errors\n",
    "\n",
    "# True Positive = I disagree with the statement that TV ads have no effect on sales and \n",
    "# the results return that tv ads do have an effect on sales.\n",
    "# True Negative = I agree with the statement that TV ads have no effect on sales and the\n",
    "# results return that tv ads indeed do not have an effect on sales.\n",
    "# Type I Error = I disagree with the statement that TV ads have no effect on sales, but the\n",
    "# results return that tv ads indeed do NOT have an effect on sales.\n",
    "# Type II Error = I aggree with the statement that TV ads have no effect on sales, but the \n",
    "# results return that tv ads actually do have an effect on sales."
   ]
  },
  {
   "cell_type": "code",
   "execution_count": null,
   "id": "b9036171",
   "metadata": {},
   "outputs": [],
   "source": []
  }
 ],
 "metadata": {
  "kernelspec": {
   "display_name": "Python 3 (ipykernel)",
   "language": "python",
   "name": "python3"
  },
  "language_info": {
   "codemirror_mode": {
    "name": "ipython",
    "version": 3
   },
   "file_extension": ".py",
   "mimetype": "text/x-python",
   "name": "python",
   "nbconvert_exporter": "python",
   "pygments_lexer": "ipython3",
   "version": "3.9.12"
  }
 },
 "nbformat": 4,
 "nbformat_minor": 5
}
